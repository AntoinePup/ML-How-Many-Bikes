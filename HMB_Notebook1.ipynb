{
 "cells": [
  {
   "cell_type": "code",
   "execution_count": 2,
   "metadata": {
    "collapsed": false
   },
   "outputs": [
    {
     "name": "stdout",
     "output_type": "stream",
     "text": [
      "Populating the interactive namespace from numpy and matplotlib\n"
     ]
    }
   ],
   "source": [
    "#We load the libraries\n",
    "import numpy as np\n",
    "import pandas as pd\n",
    "%pylab inline"
   ]
  },
  {
   "cell_type": "code",
   "execution_count": 32,
   "metadata": {
    "collapsed": false
   },
   "outputs": [],
   "source": [
    "# For .read_csv, always use header=0 when you know row 0 is the header row\n",
    "df = pd.read_csv('data/train.csv', header=0)\n",
    "\n",
    "test = pd.read_csv('data/test.csv', header=0)"
   ]
  },
  {
   "cell_type": "code",
   "execution_count": 4,
   "metadata": {
    "collapsed": false
   },
   "outputs": [
    {
     "name": "stdout",
     "output_type": "stream",
     "text": [
      "<class 'pandas.core.frame.DataFrame'>\n",
      "RangeIndex: 10886 entries, 0 to 10885\n",
      "Data columns (total 15 columns):\n",
      "instant       10886 non-null int64\n",
      "dteday        10886 non-null object\n",
      "season        10886 non-null int64\n",
      "yr            10886 non-null int64\n",
      "mnth          10886 non-null int64\n",
      "hr            10886 non-null int64\n",
      "holiday       10886 non-null int64\n",
      "weekday       10886 non-null int64\n",
      "workingday    10886 non-null int64\n",
      "weathersit    10886 non-null int64\n",
      "temp          10886 non-null float64\n",
      "atemp         10886 non-null float64\n",
      "hum           10886 non-null float64\n",
      "windspeed     10886 non-null float64\n",
      "cnt           10886 non-null int64\n",
      "dtypes: float64(4), int64(10), object(1)\n",
      "memory usage: 1.2+ MB\n"
     ]
    }
   ],
   "source": [
    "#We get informations about the different features we have and their types\n",
    "df.info()"
   ]
  },
  {
   "cell_type": "code",
   "execution_count": 4,
   "metadata": {
    "collapsed": false
   },
   "outputs": [
    {
     "data": {
      "text/html": [
       "<div>\n",
       "<table border=\"1\" class=\"dataframe\">\n",
       "  <thead>\n",
       "    <tr style=\"text-align: right;\">\n",
       "      <th></th>\n",
       "      <th>instant</th>\n",
       "      <th>dteday</th>\n",
       "      <th>season</th>\n",
       "      <th>yr</th>\n",
       "      <th>mnth</th>\n",
       "      <th>hr</th>\n",
       "      <th>holiday</th>\n",
       "      <th>weekday</th>\n",
       "      <th>workingday</th>\n",
       "      <th>weathersit</th>\n",
       "      <th>temp</th>\n",
       "      <th>atemp</th>\n",
       "      <th>hum</th>\n",
       "      <th>windspeed</th>\n",
       "      <th>cnt</th>\n",
       "    </tr>\n",
       "  </thead>\n",
       "  <tbody>\n",
       "    <tr>\n",
       "      <th>10881</th>\n",
       "      <td>17089</td>\n",
       "      <td>2012-12-19</td>\n",
       "      <td>4</td>\n",
       "      <td>1</td>\n",
       "      <td>12</td>\n",
       "      <td>19</td>\n",
       "      <td>0</td>\n",
       "      <td>3</td>\n",
       "      <td>1</td>\n",
       "      <td>1</td>\n",
       "      <td>0.38</td>\n",
       "      <td>0.3939</td>\n",
       "      <td>0.50</td>\n",
       "      <td>0.3881</td>\n",
       "      <td>336</td>\n",
       "    </tr>\n",
       "    <tr>\n",
       "      <th>10882</th>\n",
       "      <td>17090</td>\n",
       "      <td>2012-12-19</td>\n",
       "      <td>4</td>\n",
       "      <td>1</td>\n",
       "      <td>12</td>\n",
       "      <td>20</td>\n",
       "      <td>0</td>\n",
       "      <td>3</td>\n",
       "      <td>1</td>\n",
       "      <td>1</td>\n",
       "      <td>0.36</td>\n",
       "      <td>0.3485</td>\n",
       "      <td>0.57</td>\n",
       "      <td>0.2239</td>\n",
       "      <td>241</td>\n",
       "    </tr>\n",
       "    <tr>\n",
       "      <th>10883</th>\n",
       "      <td>17091</td>\n",
       "      <td>2012-12-19</td>\n",
       "      <td>4</td>\n",
       "      <td>1</td>\n",
       "      <td>12</td>\n",
       "      <td>21</td>\n",
       "      <td>0</td>\n",
       "      <td>3</td>\n",
       "      <td>1</td>\n",
       "      <td>1</td>\n",
       "      <td>0.34</td>\n",
       "      <td>0.3182</td>\n",
       "      <td>0.61</td>\n",
       "      <td>0.2239</td>\n",
       "      <td>168</td>\n",
       "    </tr>\n",
       "    <tr>\n",
       "      <th>10884</th>\n",
       "      <td>17092</td>\n",
       "      <td>2012-12-19</td>\n",
       "      <td>4</td>\n",
       "      <td>1</td>\n",
       "      <td>12</td>\n",
       "      <td>22</td>\n",
       "      <td>0</td>\n",
       "      <td>3</td>\n",
       "      <td>1</td>\n",
       "      <td>1</td>\n",
       "      <td>0.34</td>\n",
       "      <td>0.3485</td>\n",
       "      <td>0.61</td>\n",
       "      <td>0.0896</td>\n",
       "      <td>129</td>\n",
       "    </tr>\n",
       "    <tr>\n",
       "      <th>10885</th>\n",
       "      <td>17093</td>\n",
       "      <td>2012-12-19</td>\n",
       "      <td>4</td>\n",
       "      <td>1</td>\n",
       "      <td>12</td>\n",
       "      <td>23</td>\n",
       "      <td>0</td>\n",
       "      <td>3</td>\n",
       "      <td>1</td>\n",
       "      <td>1</td>\n",
       "      <td>0.32</td>\n",
       "      <td>0.3333</td>\n",
       "      <td>0.66</td>\n",
       "      <td>0.1343</td>\n",
       "      <td>88</td>\n",
       "    </tr>\n",
       "  </tbody>\n",
       "</table>\n",
       "</div>"
      ],
      "text/plain": [
       "       instant      dteday  season  yr  mnth  hr  holiday  weekday  \\\n",
       "10881    17089  2012-12-19       4   1    12  19        0        3   \n",
       "10882    17090  2012-12-19       4   1    12  20        0        3   \n",
       "10883    17091  2012-12-19       4   1    12  21        0        3   \n",
       "10884    17092  2012-12-19       4   1    12  22        0        3   \n",
       "10885    17093  2012-12-19       4   1    12  23        0        3   \n",
       "\n",
       "       workingday  weathersit  temp   atemp   hum  windspeed  cnt  \n",
       "10881           1           1  0.38  0.3939  0.50     0.3881  336  \n",
       "10882           1           1  0.36  0.3485  0.57     0.2239  241  \n",
       "10883           1           1  0.34  0.3182  0.61     0.2239  168  \n",
       "10884           1           1  0.34  0.3485  0.61     0.0896  129  \n",
       "10885           1           1  0.32  0.3333  0.66     0.1343   88  "
      ]
     },
     "execution_count": 4,
     "metadata": {},
     "output_type": "execute_result"
    }
   ],
   "source": [
    "#We have 15 different features and 10 886 rows \n",
    "#We also know their is no information missing in one of the 10886 rows which is a good news. \n",
    "#We display the five first line to have a look into the datas\n",
    "df.tail(5)"
   ]
  },
  {
   "cell_type": "code",
   "execution_count": 5,
   "metadata": {
    "collapsed": false
   },
   "outputs": [
    {
     "name": "stdout",
     "output_type": "stream",
     "text": [
      "We have 4 different seasons\n",
      "[1 2 3 4]\n",
      "The features yr, holiday and working day are booleans\n",
      "[0 1]\n",
      "[0 1]\n",
      "[0 1]\n",
      "Weathersit has 4 different values\n",
      "[1 2 3 4]\n"
     ]
    }
   ],
   "source": [
    "#Let's grab some informations about our features\n",
    "print \"We have %d different seasons\" % len(df['season'].unique())\n",
    "print df['season'].unique()\n",
    "print \"The features yr, holiday and working day are booleans\"\n",
    "print df['yr'].unique()\n",
    "print df['holiday'].unique()\n",
    "print df['workingday'].unique()\n",
    "print \"Weathersit has %d different values\" % len(df['weathersit'].unique())\n",
    "print df['weathersit'].unique()\n"
   ]
  },
  {
   "cell_type": "code",
   "execution_count": 6,
   "metadata": {
    "collapsed": false
   },
   "outputs": [
    {
     "data": {
      "image/png": "[encoded data removed]",
      "text/plain": [
       "<matplotlib.figure.Figure at 0x7f126cd53fd0>"
      ]
     },
     "metadata": {},
     "output_type": "display_data"
    }
   ],
   "source": [
    "fig = plt.figure(figsize=(12, 8)) # (width, height)\n",
    "\n",
    "fig.add_subplot(221) # 2 x 2 grid, 1st subplot\n",
    "h = plt.hist(df['atemp'], bins=30, color='blue')\n",
    "plt.title('A temperature', fontsize=16)\n",
    "\n",
    "fig.add_subplot(222) # 2 x 2 grid, 2nd subplot\n",
    "h = plt.hist(df['windspeed'], bins=30, color='orange')\n",
    "plt.title('Wind Speed', fontsize=16)\n",
    "\n",
    "fig.add_subplot(223) # 2 x 2 grid, 3rd subplot\n",
    "h = plt.hist(df['temp'], bins=30, color='green')\n",
    "plt.title('Temperature', fontsize=16)\n",
    "\n",
    "fig.add_subplot(224) # 2 x 2 grid, 4th subplot\n",
    "h = plt.hist(df['hum'], bins=30, color='red')\n",
    "plt.title('Humidity', fontsize=16)\n",
    "\n",
    "plt.tight_layout() # improve spacing between subplots"
   ]
  },
  {
   "cell_type": "code",
   "execution_count": 88,
   "metadata": {
    "collapsed": false
   },
   "outputs": [
    {
     "data": {
      "text/plain": [
       "<matplotlib.text.Text at 0x7f68d1c0ec10>"
      ]
     },
     "execution_count": 88,
     "metadata": {},
     "output_type": "execute_result"
    },
    {
     "data": {
      "image/png": "[encoded data removed]",
      "text/plain": [
       "<matplotlib.figure.Figure at 0x7f68d1cca710>"
      ]
     },
     "metadata": {},
     "output_type": "display_data"
    }
   ],
   "source": [
    "time = np.array(df['instant'])\n",
    "nbBikes = np.array(df['cnt'])\n",
    "plt.plot(time[1:500], nbBikes[1:500], '-', color='orange')\n",
    "\n",
    "plt.xlabel('Time', fontsize=16)\n",
    "plt.ylabel('Number of bikes', fontsize=16)\n",
    "plt.title('Number of bikes over time', fontsize=16)"
   ]
  },
  {
   "cell_type": "markdown",
   "metadata": {},
   "source": [
    "On peut constater qu'il y a des \"trou\" temporel dans les données ce qui donne des discontinuité dans le temps"
   ]
  },
  {
   "cell_type": "markdown",
   "metadata": {},
   "source": [
    "# Cross Validation Function"
   ]
  },
  {
   "cell_type": "code",
   "execution_count": 5,
   "metadata": {
    "collapsed": true
   },
   "outputs": [],
   "source": [
    "def cross_validate(design_matrix, labels, classifier, cv_folds):\n",
    "    \"\"\" Perform a cross-validation and returns the predictions.\n",
    "    \n",
    "    Parameters:\n",
    "    -----------\n",
    "    design_matrix: (n_samples, n_features) np.array\n",
    "        Design matrix for the experiment.\n",
    "    labels: (n_samples, ) np.array\n",
    "        Vector of labels.\n",
    "    classifier:  sklearn classifier object\n",
    "        Classifier instance; must have the following methods:\n",
    "        - fit(X, y) to train the classifier on the data X, y\n",
    "        - predict_proba(X) to apply the trained classifier to the data X and return probability estimates \n",
    "    cv_folds: sklearn cross-validation object\n",
    "        Cross-validation iterator.\n",
    "        \n",
    "    Return:\n",
    "    -------\n",
    "    pred: (n_samples, ) np.array\n",
    "        Vectors of predictions (same order as labels).\n",
    "    \"\"\"\n",
    "    pred = np.zeros(labels.shape)\n",
    "    for tr, te in cv_folds:\n",
    "        classifier.fit(design_matrix[tr],labels[tr])\n",
    "        y_pred = classifier.predict(design_matrix[te])\n",
    "        pred[te] = y_pred\n",
    "    return pred"
   ]
  },
  {
   "cell_type": "markdown",
   "metadata": {},
   "source": [
    "# Data & Folds preparation"
   ]
  },
  {
   "cell_type": "code",
   "execution_count": 65,
   "metadata": {
    "collapsed": false
   },
   "outputs": [],
   "source": [
    "from datetime import datetime\n",
    "\n",
    "y = np.array(df['cnt'])\n",
    "\n",
    "def X_Builder(dataframe):\n",
    "    samples = dataframe.shape[0]\n",
    "    X = np.zeros((samples,15))\n",
    "\n",
    "    for idx, string in enumerate(dataframe['dteday']):\n",
    "        string =string+'-'+str(dataframe['hr'][idx])\n",
    "        string = datetime.strptime(string, '%Y-%m-%d-%H')\n",
    "        X[idx][0] = string.year #Year\n",
    "        X[idx][1] = string.month #Month\n",
    "        X[idx][2] = string.day #Day\n",
    "        X[idx][3] = string.hour #Hour\n",
    "        #seconds=(string-datetime(1970,1,1)).total_seconds()\n",
    "        #time[idx] = seconds#Number of seconds since 1970\n",
    "        X[idx][4] = dataframe['temp'][idx]#Temperature\n",
    "        X[idx][5] = dataframe['hum'][idx]#humidity\n",
    "        X[idx][6] = dataframe['atemp'][idx]\n",
    "        X[idx][7] = dataframe['windspeed'][idx]\n",
    "        X[idx][8] = dataframe['workingday'][idx]\n",
    "        X[idx][9] = dataframe['holiday'][idx]\n",
    "        X[idx][10] = dataframe['weekday'][idx]\n",
    "        X[idx][11] = np.cos(string.month)\n",
    "        X[idx][12] = np.sin(string.month)\n",
    "        X[idx][13] = np.cos(string.hour)\n",
    "        X[idx][14] = np.sin(string.hour)\n",
    "    return X\n",
    "X = X_Builder(df)\n",
    "X_final = X_Builder(test)"
   ]
  },
  {
   "cell_type": "code",
   "execution_count": 77,
   "metadata": {
    "collapsed": true
   },
   "outputs": [],
   "source": [
    "# Set up a stratified 10-fold cross-validation\n",
    "from sklearn import cross_validation\n",
    "folds = cross_validation.StratifiedKFold(y, 10, shuffle=True)"
   ]
  },
  {
   "cell_type": "markdown",
   "metadata": {},
   "source": [
    "# LINEAR REGRESSION"
   ]
  },
  {
   "cell_type": "code",
   "execution_count": 76,
   "metadata": {
    "collapsed": false
   },
   "outputs": [
    {
     "name": "stdout",
     "output_type": "stream",
     "text": [
      "0.0406026088554\n"
     ]
    }
   ],
   "source": [
    "from sklearn import linear_model\n",
    "clf = linear_model.LogisticRegression(C=1e6) \n",
    "ypred_logreg = cross_validate(X[:,4:14], y, clf, folds)\n",
    "print clf.score(X[:,4:14], y)"
   ]
  },
  {
   "cell_type": "markdown",
   "metadata": {},
   "source": [
    "# K Nearest Neighbours"
   ]
  },
  {
   "cell_type": "code",
   "execution_count": 71,
   "metadata": {
    "collapsed": false
   },
   "outputs": [],
   "source": [
    "from sklearn import neighbors\n",
    "from sklearn import metrics\n",
    "perf = []\n",
    "\n",
    "X_KNN = X[:,[2,4,5]]\n",
    "\n",
    "for k in range(1, 100, 2): \n",
    "    clf = neighbors.KNeighborsClassifier(n_neighbors=k)\n",
    "    ypred = cross_validate(X,y,clf,folds)\n",
    "    \n",
    "    perf.append([clf.score(X,y),k])\n",
    "print max(perf)"
   ]
  },
  {
   "cell_type": "code",
   "execution_count": 70,
   "metadata": {
    "collapsed": false
   },
   "outputs": [
    {
     "data": {
      "text/plain": [
       "0.91475289362483925"
      ]
     },
     "execution_count": 70,
     "metadata": {},
     "output_type": "execute_result"
    }
   ],
   "source": [
    "X_KNN = X[:,0:14]\n",
    "clf = neighbors.KNeighborsClassifier(n_neighbors=1)\n",
    "ypred = cross_validate(X_KNN,y,clf,folds)\n",
    "clf.score(X_KNN,y)"
   ]
  },
  {
   "cell_type": "code",
   "execution_count": 73,
   "metadata": {
    "collapsed": false
   },
   "outputs": [],
   "source": [
    "ypred_final = clf.predict(X_final)\n",
    "\n",
    "sizeTest=test['instant'].shape[0]\n",
    "ypred_final_tab = np.zeros((sizeTest,2))\n",
    "\n",
    "for idx, val in enumerate(test['instant']):\n",
    "    ypred_final_tab[idx][0]=val\n",
    "    ypred_final_tab[idx][1]=ypred_final[idx]\n",
    "\n",
    "numpy.savetxt(\"prediction.csv\", ypred_final_tab, delimiter=\",\")"
   ]
  },
  {
   "cell_type": "markdown",
   "metadata": {},
   "source": [
    "# Random Forest"
   ]
  },
  {
   "cell_type": "code",
   "execution_count": 89,
   "metadata": {
    "collapsed": false
   },
   "outputs": [],
   "source": [
    "from sklearn.ensemble import RandomForestRegressor\n",
    "from sklearn.cross_validation import cross_val_score\n",
    "from sklearn.grid_search import GridSearchCV"
   ]
  },
  {
   "cell_type": "code",
   "execution_count": 90,
   "metadata": {
    "collapsed": false
   },
   "outputs": [
    {
     "name": "stdout",
     "output_type": "stream",
     "text": [
      "Fitting 3 folds for each of 6 candidates, totalling 18 fits\n"
     ]
    },
    {
     "name": "stderr",
     "output_type": "stream",
     "text": [
      "[Parallel(n_jobs=-1)]: Done  18 out of  18 | elapsed:    0.9s finished\n",
      "[Parallel(n_jobs=-1)]: Done  42 tasks      | elapsed:    0.3s\n",
      "[Parallel(n_jobs=-1)]: Done 192 tasks      | elapsed:    1.5s\n",
      "[Parallel(n_jobs=-1)]: Done 442 tasks      | elapsed:    3.4s\n",
      "[Parallel(n_jobs=-1)]: Done 792 tasks      | elapsed:    6.1s\n",
      "[Parallel(n_jobs=-1)]: Done 1000 out of 1000 | elapsed:    7.7s finished\n",
      "[Parallel(n_jobs=4)]: Done  42 tasks      | elapsed:    0.0s\n",
      "[Parallel(n_jobs=4)]: Done 192 tasks      | elapsed:    0.1s\n",
      "[Parallel(n_jobs=4)]: Done 442 tasks      | elapsed:    0.3s\n",
      "[Parallel(n_jobs=4)]: Done 792 tasks      | elapsed:    0.4s\n",
      "[Parallel(n_jobs=4)]: Done 1000 out of 1000 | elapsed:    0.5s finished\n",
      "[Parallel(n_jobs=-1)]: Done  42 tasks      | elapsed:    0.3s\n",
      "[Parallel(n_jobs=-1)]: Done 192 tasks      | elapsed:    1.5s\n",
      "[Parallel(n_jobs=-1)]: Done 442 tasks      | elapsed:    3.4s\n",
      "[Parallel(n_jobs=-1)]: Done 792 tasks      | elapsed:    5.9s\n",
      "[Parallel(n_jobs=-1)]: Done 1000 out of 1000 | elapsed:    7.5s finished\n",
      "[Parallel(n_jobs=4)]: Done  42 tasks      | elapsed:    0.0s\n",
      "[Parallel(n_jobs=4)]: Done 192 tasks      | elapsed:    0.1s\n",
      "[Parallel(n_jobs=4)]: Done 442 tasks      | elapsed:    0.2s\n",
      "[Parallel(n_jobs=4)]: Done 792 tasks      | elapsed:    0.3s\n",
      "[Parallel(n_jobs=4)]: Done 1000 out of 1000 | elapsed:    0.4s finished\n",
      "[Parallel(n_jobs=-1)]: Done  42 tasks      | elapsed:    0.3s\n",
      "[Parallel(n_jobs=-1)]: Done 192 tasks      | elapsed:    1.4s\n",
      "[Parallel(n_jobs=-1)]: Done 442 tasks      | elapsed:    3.3s\n",
      "[Parallel(n_jobs=-1)]: Done 792 tasks      | elapsed:    5.8s\n",
      "[Parallel(n_jobs=-1)]: Done 1000 out of 1000 | elapsed:    7.3s finished\n",
      "[Parallel(n_jobs=4)]: Done  42 tasks      | elapsed:    0.0s\n",
      "[Parallel(n_jobs=4)]: Done 192 tasks      | elapsed:    0.0s\n",
      "[Parallel(n_jobs=4)]: Done 442 tasks      | elapsed:    0.1s\n"
     ]
    },
    {
     "name": "stdout",
     "output_type": "stream",
     "text": [
      "Score = 0.70\n"
     ]
    },
    {
     "name": "stderr",
     "output_type": "stream",
     "text": [
      "[Parallel(n_jobs=4)]: Done 792 tasks      | elapsed:    0.2s\n",
      "[Parallel(n_jobs=4)]: Done 1000 out of 1000 | elapsed:    0.3s finished\n"
     ]
    }
   ],
   "source": [
    "estimator = RandomForestRegressor(random_state=0, n_estimators=1000, n_jobs=-1, verbose=True)\n",
    "param_grid = {\"min_samples_split\" : range(2,4) , \"min_weight_fraction_leaf\" : [0,0.01,0.1] }\n",
    "\n",
    "bestEstimator = GridSearchCV(RandomForestRegressor(), param_grid, n_jobs=-1, verbose=1)\n",
    "bestEstimator.fit(X,y)\n",
    "\n",
    "score = cross_val_score(estimator, X, y).mean()\n",
    "print(\"Score = %.2f\" % score)"
   ]
  },
  {
   "cell_type": "code",
   "execution_count": 91,
   "metadata": {
    "collapsed": false
   },
   "outputs": [
    {
     "data": {
      "text/plain": [
       "{'min_samples_split': 3, 'min_weight_fraction_leaf': 0}"
      ]
     },
     "execution_count": 91,
     "metadata": {},
     "output_type": "execute_result"
    }
   ],
   "source": [
    "bestEstimator.best_params_"
   ]
  },
  {
   "cell_type": "code",
   "execution_count": 93,
   "metadata": {
    "collapsed": false
   },
   "outputs": [
    {
     "name": "stderr",
     "output_type": "stream",
     "text": [
      "[Parallel(n_jobs=-1)]: Done  42 tasks      | elapsed:    0.5s\n",
      "[Parallel(n_jobs=-1)]: Done 192 tasks      | elapsed:    2.0s\n",
      "[Parallel(n_jobs=-1)]: Done 442 tasks      | elapsed:    4.6s\n",
      "[Parallel(n_jobs=-1)]: Done 792 tasks      | elapsed:    8.4s\n",
      "[Parallel(n_jobs=-1)]: Done 1000 out of 1000 | elapsed:   10.7s finished\n",
      "[Parallel(n_jobs=-1)]: Done  42 tasks      | elapsed:    0.3s\n",
      "[Parallel(n_jobs=-1)]: Done 192 tasks      | elapsed:    1.4s\n",
      "[Parallel(n_jobs=-1)]: Done 442 tasks      | elapsed:    3.1s\n",
      "[Parallel(n_jobs=-1)]: Done 792 tasks      | elapsed:    5.4s\n",
      "[Parallel(n_jobs=-1)]: Done 1000 out of 1000 | elapsed:    6.8s finished\n",
      "[Parallel(n_jobs=4)]: Done  42 tasks      | elapsed:    0.0s\n",
      "[Parallel(n_jobs=4)]: Done 192 tasks      | elapsed:    0.1s\n",
      "[Parallel(n_jobs=4)]: Done 442 tasks      | elapsed:    0.3s\n",
      "[Parallel(n_jobs=4)]: Done 792 tasks      | elapsed:    0.4s\n",
      "[Parallel(n_jobs=4)]: Done 1000 out of 1000 | elapsed:    0.4s finished\n",
      "[Parallel(n_jobs=-1)]: Done  42 tasks      | elapsed:    0.3s\n",
      "[Parallel(n_jobs=-1)]: Done 192 tasks      | elapsed:    1.4s\n",
      "[Parallel(n_jobs=-1)]: Done 442 tasks      | elapsed:    3.3s\n",
      "[Parallel(n_jobs=-1)]: Done 792 tasks      | elapsed:    5.8s\n",
      "[Parallel(n_jobs=-1)]: Done 1000 out of 1000 | elapsed:    7.3s finished\n",
      "[Parallel(n_jobs=4)]: Done  42 tasks      | elapsed:    0.0s\n",
      "[Parallel(n_jobs=4)]: Done 192 tasks      | elapsed:    0.1s\n",
      "[Parallel(n_jobs=4)]: Done 442 tasks      | elapsed:    0.3s\n",
      "[Parallel(n_jobs=4)]: Done 792 tasks      | elapsed:    0.4s\n",
      "[Parallel(n_jobs=4)]: Done 1000 out of 1000 | elapsed:    0.5s finished\n",
      "[Parallel(n_jobs=-1)]: Done  42 tasks      | elapsed:    0.3s\n",
      "[Parallel(n_jobs=-1)]: Done 192 tasks      | elapsed:    1.5s\n",
      "[Parallel(n_jobs=-1)]: Done 442 tasks      | elapsed:    3.7s\n",
      "[Parallel(n_jobs=-1)]: Done 792 tasks      | elapsed:    6.8s\n",
      "[Parallel(n_jobs=-1)]: Done 1000 out of 1000 | elapsed:    8.4s finished\n",
      "[Parallel(n_jobs=4)]: Done  42 tasks      | elapsed:    0.0s\n",
      "[Parallel(n_jobs=4)]: Done 192 tasks      | elapsed:    0.0s\n",
      "[Parallel(n_jobs=4)]: Done 442 tasks      | elapsed:    0.1s\n",
      "[Parallel(n_jobs=4)]: Done 792 tasks      | elapsed:    0.2s\n"
     ]
    },
    {
     "name": "stdout",
     "output_type": "stream",
     "text": [
      "Score = 0.70\n"
     ]
    },
    {
     "name": "stderr",
     "output_type": "stream",
     "text": [
      "[Parallel(n_jobs=4)]: Done 1000 out of 1000 | elapsed:    0.2s finished\n"
     ]
    }
   ],
   "source": [
    "from sklearn.cross_validation import cross_val_score\n",
    "estimator = RandomForestRegressor(min_samples_split=3, n_estimators=1000, n_jobs=-1, verbose=True).fit(X,y)\n",
    "score = cross_val_score(estimator, X, y).mean()\n",
    "print(\"Score = %.2f\" % score)"
   ]
  },
  {
   "cell_type": "code",
   "execution_count": null,
   "metadata": {
    "collapsed": true
   },
   "outputs": [],
   "source": [
    "predict = np.round(estimator.predict(X_final))\n",
    "final = pandas.DataFrame()\n",
    "final[\"id\"] = instantTest\n",
    "final[\"Prediction\"] = predict\n",
    "final.to_csv(\"Kaggle1.csv\",index=False)"
   ]
  }
 ],
 "metadata": {
  "anaconda-cloud": {},
  "kernelspec": {
   "display_name": "Python [default]",
   "language": "python",
   "name": "python2"
  },
  "language_info": {
   "codemirror_mode": {
    "name": "ipython",
    "version": 2
   },
   "file_extension": ".py",
   "mimetype": "text/x-python",
   "name": "python",
   "nbconvert_exporter": "python",
   "pygments_lexer": "ipython2",
   "version": "2.7.12"
  }
 },
 "nbformat": 4,
 "nbformat_minor": 1
}
