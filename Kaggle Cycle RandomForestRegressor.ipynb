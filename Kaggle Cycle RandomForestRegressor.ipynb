{
 "cells": [
  {
   "cell_type": "markdown",
   "metadata": {},
   "source": [
    "1000 trees :\n",
    "Leaderboard 0.43247\n",
    "\n",
    "10 000 trees : \n",
    "Leaderboard 0.43198\n"
   ]
  },
  {
   "cell_type": "code",
   "execution_count": 1,
   "metadata": {
    "collapsed": false
   },
   "outputs": [
    {
     "name": "stdout",
     "output_type": "stream",
     "text": [
      "Populating the interactive namespace from numpy and matplotlib\n"
     ]
    }
   ],
   "source": [
    "import numpy as np\n",
    "%pylab inline\n",
    "from sklearn.cross_validation import cross_val_score\n",
    "import pandas as pd\n",
    "from os import chdir\n",
    "chdir ('/Users/flavievampouille/Documents/DS&BA/CENTRALE/Machine Learning/Kaggle/')"
   ]
  },
  {
   "cell_type": "code",
   "execution_count": 2,
   "metadata": {
    "collapsed": false
   },
   "outputs": [],
   "source": [
    "# Load the data to train\n",
    "\n",
    "train = pd.read_csv('train.csv')\n",
    "\n",
    "y = train['cnt']\n",
    "\n",
    "del train['instant']\n",
    "del train['dteday']\n",
    "del train['cnt']\n"
   ]
  },
  {
   "cell_type": "code",
   "execution_count": 3,
   "metadata": {
    "collapsed": false
   },
   "outputs": [
    {
     "data": {
      "text/html": [
       "<div>\n",
       "<table border=\"1\" class=\"dataframe\">\n",
       "  <thead>\n",
       "    <tr style=\"text-align: right;\">\n",
       "      <th></th>\n",
       "      <th>season</th>\n",
       "      <th>yr</th>\n",
       "      <th>mnth</th>\n",
       "      <th>hr</th>\n",
       "      <th>holiday</th>\n",
       "      <th>weekday</th>\n",
       "      <th>workingday</th>\n",
       "      <th>weathersit</th>\n",
       "      <th>temp</th>\n",
       "      <th>atemp</th>\n",
       "      <th>hum</th>\n",
       "      <th>windspeed</th>\n",
       "    </tr>\n",
       "  </thead>\n",
       "  <tbody>\n",
       "    <tr>\n",
       "      <th>0</th>\n",
       "      <td>1</td>\n",
       "      <td>0</td>\n",
       "      <td>1</td>\n",
       "      <td>0</td>\n",
       "      <td>0</td>\n",
       "      <td>6</td>\n",
       "      <td>0</td>\n",
       "      <td>1</td>\n",
       "      <td>0.24</td>\n",
       "      <td>0.2879</td>\n",
       "      <td>0.81</td>\n",
       "      <td>0.0</td>\n",
       "    </tr>\n",
       "    <tr>\n",
       "      <th>1</th>\n",
       "      <td>1</td>\n",
       "      <td>0</td>\n",
       "      <td>1</td>\n",
       "      <td>1</td>\n",
       "      <td>0</td>\n",
       "      <td>6</td>\n",
       "      <td>0</td>\n",
       "      <td>1</td>\n",
       "      <td>0.22</td>\n",
       "      <td>0.2727</td>\n",
       "      <td>0.80</td>\n",
       "      <td>0.0</td>\n",
       "    </tr>\n",
       "    <tr>\n",
       "      <th>2</th>\n",
       "      <td>1</td>\n",
       "      <td>0</td>\n",
       "      <td>1</td>\n",
       "      <td>2</td>\n",
       "      <td>0</td>\n",
       "      <td>6</td>\n",
       "      <td>0</td>\n",
       "      <td>1</td>\n",
       "      <td>0.22</td>\n",
       "      <td>0.2727</td>\n",
       "      <td>0.80</td>\n",
       "      <td>0.0</td>\n",
       "    </tr>\n",
       "    <tr>\n",
       "      <th>3</th>\n",
       "      <td>1</td>\n",
       "      <td>0</td>\n",
       "      <td>1</td>\n",
       "      <td>3</td>\n",
       "      <td>0</td>\n",
       "      <td>6</td>\n",
       "      <td>0</td>\n",
       "      <td>1</td>\n",
       "      <td>0.24</td>\n",
       "      <td>0.2879</td>\n",
       "      <td>0.75</td>\n",
       "      <td>0.0</td>\n",
       "    </tr>\n",
       "    <tr>\n",
       "      <th>4</th>\n",
       "      <td>1</td>\n",
       "      <td>0</td>\n",
       "      <td>1</td>\n",
       "      <td>4</td>\n",
       "      <td>0</td>\n",
       "      <td>6</td>\n",
       "      <td>0</td>\n",
       "      <td>1</td>\n",
       "      <td>0.24</td>\n",
       "      <td>0.2879</td>\n",
       "      <td>0.75</td>\n",
       "      <td>0.0</td>\n",
       "    </tr>\n",
       "  </tbody>\n",
       "</table>\n",
       "</div>"
      ],
      "text/plain": [
       "   season  yr  mnth  hr  holiday  weekday  workingday  weathersit  temp  \\\n",
       "0       1   0     1   0        0        6           0           1  0.24   \n",
       "1       1   0     1   1        0        6           0           1  0.22   \n",
       "2       1   0     1   2        0        6           0           1  0.22   \n",
       "3       1   0     1   3        0        6           0           1  0.24   \n",
       "4       1   0     1   4        0        6           0           1  0.24   \n",
       "\n",
       "    atemp   hum  windspeed  \n",
       "0  0.2879  0.81        0.0  \n",
       "1  0.2727  0.80        0.0  \n",
       "2  0.2727  0.80        0.0  \n",
       "3  0.2879  0.75        0.0  \n",
       "4  0.2879  0.75        0.0  "
      ]
     },
     "execution_count": 3,
     "metadata": {},
     "output_type": "execute_result"
    }
   ],
   "source": [
    "train.head()"
   ]
  },
  {
   "cell_type": "code",
   "execution_count": 4,
   "metadata": {
    "collapsed": false
   },
   "outputs": [],
   "source": [
    "# Load the data test\n",
    "\n",
    "test = pd.read_csv('test.csv')\n",
    "\n",
    "instantTest = test['instant']\n",
    "\n",
    "del test['instant']\n",
    "del test['dteday']\n"
   ]
  },
  {
   "cell_type": "code",
   "execution_count": 5,
   "metadata": {
    "collapsed": false
   },
   "outputs": [
    {
     "data": {
      "text/html": [
       "<div>\n",
       "<table border=\"1\" class=\"dataframe\">\n",
       "  <thead>\n",
       "    <tr style=\"text-align: right;\">\n",
       "      <th></th>\n",
       "      <th>season</th>\n",
       "      <th>yr</th>\n",
       "      <th>mnth</th>\n",
       "      <th>hr</th>\n",
       "      <th>holiday</th>\n",
       "      <th>weekday</th>\n",
       "      <th>workingday</th>\n",
       "      <th>weathersit</th>\n",
       "      <th>temp</th>\n",
       "      <th>atemp</th>\n",
       "      <th>hum</th>\n",
       "      <th>windspeed</th>\n",
       "    </tr>\n",
       "  </thead>\n",
       "  <tbody>\n",
       "    <tr>\n",
       "      <th>0</th>\n",
       "      <td>1</td>\n",
       "      <td>0</td>\n",
       "      <td>1</td>\n",
       "      <td>0</td>\n",
       "      <td>0</td>\n",
       "      <td>4</td>\n",
       "      <td>1</td>\n",
       "      <td>1</td>\n",
       "      <td>0.26</td>\n",
       "      <td>0.2273</td>\n",
       "      <td>0.56</td>\n",
       "      <td>0.3881</td>\n",
       "    </tr>\n",
       "    <tr>\n",
       "      <th>1</th>\n",
       "      <td>1</td>\n",
       "      <td>0</td>\n",
       "      <td>1</td>\n",
       "      <td>1</td>\n",
       "      <td>0</td>\n",
       "      <td>4</td>\n",
       "      <td>1</td>\n",
       "      <td>1</td>\n",
       "      <td>0.26</td>\n",
       "      <td>0.2727</td>\n",
       "      <td>0.56</td>\n",
       "      <td>0.0000</td>\n",
       "    </tr>\n",
       "    <tr>\n",
       "      <th>2</th>\n",
       "      <td>1</td>\n",
       "      <td>0</td>\n",
       "      <td>1</td>\n",
       "      <td>2</td>\n",
       "      <td>0</td>\n",
       "      <td>4</td>\n",
       "      <td>1</td>\n",
       "      <td>1</td>\n",
       "      <td>0.26</td>\n",
       "      <td>0.2727</td>\n",
       "      <td>0.56</td>\n",
       "      <td>0.0000</td>\n",
       "    </tr>\n",
       "    <tr>\n",
       "      <th>3</th>\n",
       "      <td>1</td>\n",
       "      <td>0</td>\n",
       "      <td>1</td>\n",
       "      <td>3</td>\n",
       "      <td>0</td>\n",
       "      <td>4</td>\n",
       "      <td>1</td>\n",
       "      <td>1</td>\n",
       "      <td>0.26</td>\n",
       "      <td>0.2576</td>\n",
       "      <td>0.56</td>\n",
       "      <td>0.1642</td>\n",
       "    </tr>\n",
       "    <tr>\n",
       "      <th>4</th>\n",
       "      <td>1</td>\n",
       "      <td>0</td>\n",
       "      <td>1</td>\n",
       "      <td>4</td>\n",
       "      <td>0</td>\n",
       "      <td>4</td>\n",
       "      <td>1</td>\n",
       "      <td>1</td>\n",
       "      <td>0.26</td>\n",
       "      <td>0.2576</td>\n",
       "      <td>0.56</td>\n",
       "      <td>0.1642</td>\n",
       "    </tr>\n",
       "  </tbody>\n",
       "</table>\n",
       "</div>"
      ],
      "text/plain": [
       "   season  yr  mnth  hr  holiday  weekday  workingday  weathersit  temp  \\\n",
       "0       1   0     1   0        0        4           1           1  0.26   \n",
       "1       1   0     1   1        0        4           1           1  0.26   \n",
       "2       1   0     1   2        0        4           1           1  0.26   \n",
       "3       1   0     1   3        0        4           1           1  0.26   \n",
       "4       1   0     1   4        0        4           1           1  0.26   \n",
       "\n",
       "    atemp   hum  windspeed  \n",
       "0  0.2273  0.56     0.3881  \n",
       "1  0.2727  0.56     0.0000  \n",
       "2  0.2727  0.56     0.0000  \n",
       "3  0.2576  0.56     0.1642  \n",
       "4  0.2576  0.56     0.1642  "
      ]
     },
     "execution_count": 5,
     "metadata": {},
     "output_type": "execute_result"
    }
   ],
   "source": [
    "test.head()"
   ]
  },
  {
   "cell_type": "code",
   "execution_count": 6,
   "metadata": {
    "collapsed": false
   },
   "outputs": [],
   "source": [
    "# Define cycle features for season, mnth, hr, weekday\n",
    "\n",
    "# season\n",
    "train ['cos_season'] = cos ( 2 * pi * train['season'] / 4 )\n",
    "train ['sin_season'] = sin ( 2 * pi * train['season'] / 4 )\n",
    "del train ['season']\n",
    "\n",
    "test ['cos_season'] = cos ( 2 * pi * test['season'] / 4 )\n",
    "test ['sin_season'] = sin ( 2 * pi * test['season'] / 4 )\n",
    "del test ['season']\n",
    "\n",
    "# mth\n",
    "train ['cos_mnth'] = cos ( 2 * pi * train['mnth'] / 12 )\n",
    "train ['sin_mnth'] = sin ( 2 * pi * train['mnth'] / 12 )\n",
    "del train ['mnth']\n",
    "\n",
    "test ['cos_mnth'] = cos ( 2 * pi * test['mnth'] / 12 )\n",
    "test ['sin_mnth'] = sin ( 2 * pi * test['mnth'] / 12 )\n",
    "del test ['mnth']\n",
    "\n",
    "# hr\n",
    "train ['cos_hr'] = cos ( 2 * pi * train['hr'] / 24 )\n",
    "train ['sin_hr'] = sin ( 2 * pi * train['hr'] / 24 )\n",
    "del train ['hr']\n",
    "\n",
    "test ['cos_hr'] = cos ( 2 * pi * test['hr'] / 24 )\n",
    "test ['sin_hr'] = sin ( 2 * pi * test['hr'] / 24 )\n",
    "del test ['hr']\n",
    "\n",
    "# weekday\n",
    "train ['cos_weekday'] = cos ( 2 * pi * train['weekday'] / 7 )\n",
    "train ['sin_weekday'] = sin ( 2 * pi * train['weekday'] / 7 )\n",
    "del train ['weekday']\n",
    "\n",
    "test ['cos_weekday'] = cos ( 2 * pi * test['weekday'] / 7 )\n",
    "test ['sin_weekday'] = sin ( 2 * pi * test['weekday'] / 7 )\n",
    "del test ['weekday']\n"
   ]
  },
  {
   "cell_type": "code",
   "execution_count": 7,
   "metadata": {
    "collapsed": true
   },
   "outputs": [],
   "source": [
    "# Import method\n",
    "from sklearn.ensemble import RandomForestRegressor"
   ]
  },
  {
   "cell_type": "code",
   "execution_count": 8,
   "metadata": {
    "collapsed": false
   },
   "outputs": [
    {
     "name": "stderr",
     "output_type": "stream",
     "text": [
      "[Parallel(n_jobs=-1)]: Done  46 tasks      | elapsed:    1.5s\n",
      "[Parallel(n_jobs=-1)]: Done 196 tasks      | elapsed:    6.2s\n",
      "[Parallel(n_jobs=-1)]: Done 446 tasks      | elapsed:   14.9s\n",
      "[Parallel(n_jobs=-1)]: Done 796 tasks      | elapsed:   26.6s\n",
      "[Parallel(n_jobs=-1)]: Done 1246 tasks      | elapsed:   41.3s\n",
      "[Parallel(n_jobs=-1)]: Done 1796 tasks      | elapsed:   59.6s\n",
      "[Parallel(n_jobs=-1)]: Done 2446 tasks      | elapsed:  1.4min\n",
      "[Parallel(n_jobs=-1)]: Done 3196 tasks      | elapsed:  1.8min\n",
      "[Parallel(n_jobs=-1)]: Done 4046 tasks      | elapsed:  2.3min\n",
      "[Parallel(n_jobs=-1)]: Done 4996 tasks      | elapsed:  2.8min\n",
      "[Parallel(n_jobs=-1)]: Done 6046 tasks      | elapsed:  3.5min\n",
      "[Parallel(n_jobs=-1)]: Done 7196 tasks      | elapsed:  4.2min\n",
      "[Parallel(n_jobs=-1)]: Done 8446 tasks      | elapsed:  5.0min\n",
      "[Parallel(n_jobs=-1)]: Done 9796 tasks      | elapsed:  5.9min\n",
      "[Parallel(n_jobs=-1)]: Done 10000 out of 10000 | elapsed:  6.1min finished\n",
      "[Parallel(n_jobs=-1)]: Done  46 tasks      | elapsed:    1.2s\n",
      "[Parallel(n_jobs=-1)]: Done 196 tasks      | elapsed:    5.3s\n",
      "[Parallel(n_jobs=-1)]: Done 446 tasks      | elapsed:   12.4s\n",
      "[Parallel(n_jobs=-1)]: Done 796 tasks      | elapsed:   22.7s\n",
      "[Parallel(n_jobs=-1)]: Done 1246 tasks      | elapsed:   35.9s\n",
      "[Parallel(n_jobs=-1)]: Done 1796 tasks      | elapsed:   52.5s\n",
      "[Parallel(n_jobs=-1)]: Done 2446 tasks      | elapsed:  1.2min\n",
      "[Parallel(n_jobs=-1)]: Done 3196 tasks      | elapsed:  1.6min\n",
      "[Parallel(n_jobs=-1)]: Done 4046 tasks      | elapsed:  2.0min\n",
      "[Parallel(n_jobs=-1)]: Done 4996 tasks      | elapsed:  2.5min\n",
      "[Parallel(n_jobs=-1)]: Done 6046 tasks      | elapsed:  3.1min\n",
      "[Parallel(n_jobs=-1)]: Done 7196 tasks      | elapsed:  3.7min\n",
      "[Parallel(n_jobs=-1)]: Done 8446 tasks      | elapsed:  4.4min\n",
      "[Parallel(n_jobs=-1)]: Done 9796 tasks      | elapsed:  5.1min\n",
      "[Parallel(n_jobs=-1)]: Done 10000 out of 10000 | elapsed:  5.3min finished\n",
      "[Parallel(n_jobs=2)]: Done  46 tasks      | elapsed:    0.4s\n",
      "[Parallel(n_jobs=2)]: Done 196 tasks      | elapsed:    2.1s\n",
      "[Parallel(n_jobs=2)]: Done 446 tasks      | elapsed:    4.3s\n",
      "[Parallel(n_jobs=2)]: Done 796 tasks      | elapsed:    5.9s\n",
      "[Parallel(n_jobs=2)]: Done 1246 tasks      | elapsed:    7.4s\n",
      "[Parallel(n_jobs=2)]: Done 1796 tasks      | elapsed:    8.5s\n",
      "[Parallel(n_jobs=2)]: Done 2446 tasks      | elapsed:    9.8s\n",
      "[Parallel(n_jobs=2)]: Done 3196 tasks      | elapsed:   11.3s\n",
      "[Parallel(n_jobs=2)]: Done 4046 tasks      | elapsed:   13.1s\n",
      "[Parallel(n_jobs=2)]: Done 4996 tasks      | elapsed:   15.1s\n",
      "[Parallel(n_jobs=2)]: Done 6046 tasks      | elapsed:   17.4s\n",
      "[Parallel(n_jobs=2)]: Done 7196 tasks      | elapsed:   19.8s\n",
      "[Parallel(n_jobs=2)]: Done 8446 tasks      | elapsed:   22.5s\n",
      "[Parallel(n_jobs=2)]: Done 9796 tasks      | elapsed:   25.5s\n",
      "[Parallel(n_jobs=2)]: Done 10000 out of 10000 | elapsed:   26.1s finished\n",
      "[Parallel(n_jobs=-1)]: Done  46 tasks      | elapsed:    1.7s\n",
      "[Parallel(n_jobs=-1)]: Done 196 tasks      | elapsed:    7.3s\n",
      "[Parallel(n_jobs=-1)]: Done 446 tasks      | elapsed:   14.3s\n",
      "[Parallel(n_jobs=-1)]: Done 796 tasks      | elapsed:   23.8s\n",
      "[Parallel(n_jobs=-1)]: Done 1246 tasks      | elapsed:   36.0s\n",
      "[Parallel(n_jobs=-1)]: Done 1796 tasks      | elapsed:   51.0s\n",
      "[Parallel(n_jobs=-1)]: Done 2446 tasks      | elapsed:  1.2min\n",
      "[Parallel(n_jobs=-1)]: Done 3196 tasks      | elapsed:  1.5min\n",
      "[Parallel(n_jobs=-1)]: Done 4046 tasks      | elapsed:  1.9min\n",
      "[Parallel(n_jobs=-1)]: Done 4996 tasks      | elapsed:  2.4min\n",
      "[Parallel(n_jobs=-1)]: Done 6046 tasks      | elapsed:  2.9min\n",
      "[Parallel(n_jobs=-1)]: Done 7196 tasks      | elapsed:  3.5min\n",
      "[Parallel(n_jobs=-1)]: Done 8446 tasks      | elapsed:  4.2min\n",
      "[Parallel(n_jobs=-1)]: Done 9796 tasks      | elapsed:  5.0min\n",
      "[Parallel(n_jobs=-1)]: Done 10000 out of 10000 | elapsed:  5.1min finished\n",
      "[Parallel(n_jobs=2)]: Done  46 tasks      | elapsed:    0.0s\n",
      "[Parallel(n_jobs=2)]: Done 196 tasks      | elapsed:    0.2s\n",
      "[Parallel(n_jobs=2)]: Done 446 tasks      | elapsed:    0.5s\n",
      "[Parallel(n_jobs=2)]: Done 796 tasks      | elapsed:    1.2s\n",
      "[Parallel(n_jobs=2)]: Done 1246 tasks      | elapsed:    2.2s\n",
      "[Parallel(n_jobs=2)]: Done 1796 tasks      | elapsed:    3.5s\n",
      "[Parallel(n_jobs=2)]: Done 2446 tasks      | elapsed:    4.9s\n",
      "[Parallel(n_jobs=2)]: Done 3196 tasks      | elapsed:    6.7s\n",
      "[Parallel(n_jobs=2)]: Done 4046 tasks      | elapsed:    8.8s\n",
      "[Parallel(n_jobs=2)]: Done 4996 tasks      | elapsed:   11.2s\n",
      "[Parallel(n_jobs=2)]: Done 6046 tasks      | elapsed:   14.1s\n",
      "[Parallel(n_jobs=2)]: Done 7196 tasks      | elapsed:   17.0s\n",
      "[Parallel(n_jobs=2)]: Done 8446 tasks      | elapsed:   20.1s\n",
      "[Parallel(n_jobs=2)]: Done 9796 tasks      | elapsed:   23.5s\n",
      "[Parallel(n_jobs=2)]: Done 10000 out of 10000 | elapsed:   24.0s finished\n",
      "[Parallel(n_jobs=-1)]: Done  46 tasks      | elapsed:    1.1s\n",
      "[Parallel(n_jobs=-1)]: Done 196 tasks      | elapsed:    5.1s\n",
      "[Parallel(n_jobs=-1)]: Done 446 tasks      | elapsed:   11.9s\n",
      "[Parallel(n_jobs=-1)]: Done 796 tasks      | elapsed:   21.2s\n",
      "[Parallel(n_jobs=-1)]: Done 1246 tasks      | elapsed:   33.7s\n",
      "[Parallel(n_jobs=-1)]: Done 1796 tasks      | elapsed:   49.0s\n",
      "[Parallel(n_jobs=-1)]: Done 2446 tasks      | elapsed:  1.1min\n",
      "[Parallel(n_jobs=-1)]: Done 3196 tasks      | elapsed:  1.5min\n",
      "[Parallel(n_jobs=-1)]: Done 4046 tasks      | elapsed:  1.9min\n",
      "[Parallel(n_jobs=-1)]: Done 4996 tasks      | elapsed:  2.4min\n",
      "[Parallel(n_jobs=-1)]: Done 6046 tasks      | elapsed:  2.9min\n",
      "[Parallel(n_jobs=-1)]: Done 7196 tasks      | elapsed:  3.5min\n",
      "[Parallel(n_jobs=-1)]: Done 8446 tasks      | elapsed:  4.2min\n",
      "[Parallel(n_jobs=-1)]: Done 9796 tasks      | elapsed:  4.9min\n",
      "[Parallel(n_jobs=-1)]: Done 10000 out of 10000 | elapsed:  5.0min finished\n",
      "[Parallel(n_jobs=2)]: Done  46 tasks      | elapsed:    0.0s\n",
      "[Parallel(n_jobs=2)]: Done 196 tasks      | elapsed:    0.2s\n",
      "[Parallel(n_jobs=2)]: Done 446 tasks      | elapsed:    0.5s\n",
      "[Parallel(n_jobs=2)]: Done 796 tasks      | elapsed:    1.1s\n",
      "[Parallel(n_jobs=2)]: Done 1246 tasks      | elapsed:    1.9s\n",
      "[Parallel(n_jobs=2)]: Done 1796 tasks      | elapsed:    2.9s\n",
      "[Parallel(n_jobs=2)]: Done 2446 tasks      | elapsed:    4.2s\n",
      "[Parallel(n_jobs=2)]: Done 3196 tasks      | elapsed:    5.7s\n",
      "[Parallel(n_jobs=2)]: Done 4046 tasks      | elapsed:    7.3s\n",
      "[Parallel(n_jobs=2)]: Done 4996 tasks      | elapsed:    9.3s\n",
      "[Parallel(n_jobs=2)]: Done 6046 tasks      | elapsed:   11.4s\n",
      "[Parallel(n_jobs=2)]: Done 7196 tasks      | elapsed:   13.7s\n",
      "[Parallel(n_jobs=2)]: Done 8446 tasks      | elapsed:   16.2s\n",
      "[Parallel(n_jobs=2)]: Done 9796 tasks      | elapsed:   19.0s\n",
      "[Parallel(n_jobs=2)]: Done 10000 out of 10000 | elapsed:   19.5s finished\n"
     ]
    },
    {
     "name": "stdout",
     "output_type": "stream",
     "text": [
      "Score = 0.77\n"
     ]
    }
   ],
   "source": [
    "# Estimator and score\n",
    "estimator = RandomForestRegressor(n_estimators=10000, n_jobs=-1, verbose=True).fit(train,y)\n",
    "score = cross_val_score(estimator, train, y).mean()\n",
    "print(\"Score = %.2f\" % score)"
   ]
  },
  {
   "cell_type": "code",
   "execution_count": 9,
   "metadata": {
    "collapsed": false
   },
   "outputs": [
    {
     "name": "stderr",
     "output_type": "stream",
     "text": [
      "[Parallel(n_jobs=2)]: Done  46 tasks      | elapsed:    0.3s\n",
      "[Parallel(n_jobs=2)]: Done 196 tasks      | elapsed:    0.8s\n",
      "[Parallel(n_jobs=2)]: Done 446 tasks      | elapsed:    1.4s\n",
      "[Parallel(n_jobs=2)]: Done 796 tasks      | elapsed:    2.3s\n",
      "[Parallel(n_jobs=2)]: Done 1246 tasks      | elapsed:    7.4s\n",
      "[Parallel(n_jobs=2)]: Done 1796 tasks      | elapsed:   18.2s\n",
      "[Parallel(n_jobs=2)]: Done 2446 tasks      | elapsed:   38.3s\n",
      "[Parallel(n_jobs=2)]: Done 3196 tasks      | elapsed:   48.5s\n",
      "[Parallel(n_jobs=2)]: Done 4046 tasks      | elapsed:  1.0min\n",
      "[Parallel(n_jobs=2)]: Done 4996 tasks      | elapsed:  1.4min\n",
      "[Parallel(n_jobs=2)]: Done 6046 tasks      | elapsed:  1.7min\n",
      "[Parallel(n_jobs=2)]: Done 7196 tasks      | elapsed:  2.1min\n",
      "[Parallel(n_jobs=2)]: Done 8446 tasks      | elapsed:  2.3min\n",
      "[Parallel(n_jobs=2)]: Done 9796 tasks      | elapsed:  2.4min\n",
      "[Parallel(n_jobs=2)]: Done 10000 out of 10000 | elapsed:  2.4min finished\n"
     ]
    }
   ],
   "source": [
    "# Predictions\n",
    "predict = np.round(estimator.predict(test))"
   ]
  },
  {
   "cell_type": "code",
   "execution_count": 10,
   "metadata": {
    "collapsed": false
   },
   "outputs": [],
   "source": [
    "# Export result\n",
    "final = pd.DataFrame()\n",
    "final[\"id\"] = instantTest\n",
    "final[\"Prediction\"] = predict\n",
    "final.to_csv(\"Kaggle Cyclic RandomForestRegressor 10 000.csv\",index=False)"
   ]
  },
  {
   "cell_type": "code",
   "execution_count": null,
   "metadata": {
    "collapsed": true
   },
   "outputs": [],
   "source": []
  }
 ],
 "metadata": {
  "anaconda-cloud": {},
  "kernelspec": {
   "display_name": "Python [default]",
   "language": "python",
   "name": "python2"
  },
  "language_info": {
   "codemirror_mode": {
    "name": "ipython",
    "version": 2
   },
   "file_extension": ".py",
   "mimetype": "text/x-python",
   "name": "python",
   "nbconvert_exporter": "python",
   "pygments_lexer": "ipython2",
   "version": "2.7.12"
  }
 },
 "nbformat": 4,
 "nbformat_minor": 1
}
