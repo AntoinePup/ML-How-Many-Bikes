{
 "cells": [
  {
   "cell_type": "markdown",
   "metadata": {},
   "source": [
    "# KAGGLE MACHINE LEARNING    \n",
    "## How Many Bikes?"
   ]
  },
  {
   "cell_type": "markdown",
   "metadata": {},
   "source": [
    "______________________________________________________________________________________________________________________"
   ]
  },
  {
   "cell_type": "markdown",
   "metadata": {},
   "source": [
    "# I/ Import data"
   ]
  },
  {
   "cell_type": "code",
   "execution_count": 1,
   "metadata": {
    "collapsed": false,
    "scrolled": true
   },
   "outputs": [
    {
     "name": "stdout",
     "output_type": "stream",
     "text": [
      "Populating the interactive namespace from numpy and matplotlib\n"
     ]
    }
   ],
   "source": [
    "import numpy as np\n",
    "%pylab inline\n",
    "import pandas as pd\n",
    "from sklearn.cross_validation import cross_val_score\n",
    "from sklearn.grid_search import GridSearchCV\n",
    "from sklearn.metrics import mean_squared_error\n",
    "from os import chdir\n",
    "chdir ('/Users/flavievampouille/Documents/DS&BA/CENTRALE/Machine Learning/Kaggle/')"
   ]
  },
  {
   "cell_type": "markdown",
   "metadata": {},
   "source": [
    "### 1) Import train dataset"
   ]
  },
  {
   "cell_type": "code",
   "execution_count": 2,
   "metadata": {
    "collapsed": true
   },
   "outputs": [],
   "source": [
    "train = pd.read_csv('train.csv')"
   ]
  },
  {
   "cell_type": "markdown",
   "metadata": {},
   "source": [
    "##### Data to predict\n",
    "As the final error is calculated on log(cnt) we train the model on log(cnt) as well."
   ]
  },
  {
   "cell_type": "code",
   "execution_count": 3,
   "metadata": {
    "collapsed": false
   },
   "outputs": [],
   "source": [
    "y = np.log ( train['cnt'] )\n",
    "del train['cnt']"
   ]
  },
  {
   "cell_type": "markdown",
   "metadata": {},
   "source": [
    "##### Remove data which are not usefull"
   ]
  },
  {
   "cell_type": "code",
   "execution_count": 4,
   "metadata": {
    "collapsed": true
   },
   "outputs": [],
   "source": [
    "del train['instant']\n",
    "del train['dteday']"
   ]
  },
  {
   "cell_type": "markdown",
   "metadata": {},
   "source": [
    "##### Visualize data"
   ]
  },
  {
   "cell_type": "code",
   "execution_count": 5,
   "metadata": {
    "collapsed": false
   },
   "outputs": [
    {
     "data": {
      "text/html": [
       "<div>\n",
       "<table border=\"1\" class=\"dataframe\">\n",
       "  <thead>\n",
       "    <tr style=\"text-align: right;\">\n",
       "      <th></th>\n",
       "      <th>season</th>\n",
       "      <th>yr</th>\n",
       "      <th>mnth</th>\n",
       "      <th>hr</th>\n",
       "      <th>holiday</th>\n",
       "      <th>weekday</th>\n",
       "      <th>workingday</th>\n",
       "      <th>weathersit</th>\n",
       "      <th>temp</th>\n",
       "      <th>atemp</th>\n",
       "      <th>hum</th>\n",
       "      <th>windspeed</th>\n",
       "    </tr>\n",
       "  </thead>\n",
       "  <tbody>\n",
       "    <tr>\n",
       "      <th>0</th>\n",
       "      <td>1</td>\n",
       "      <td>0</td>\n",
       "      <td>1</td>\n",
       "      <td>0</td>\n",
       "      <td>0</td>\n",
       "      <td>6</td>\n",
       "      <td>0</td>\n",
       "      <td>1</td>\n",
       "      <td>0.24</td>\n",
       "      <td>0.2879</td>\n",
       "      <td>0.81</td>\n",
       "      <td>0.0</td>\n",
       "    </tr>\n",
       "    <tr>\n",
       "      <th>1</th>\n",
       "      <td>1</td>\n",
       "      <td>0</td>\n",
       "      <td>1</td>\n",
       "      <td>1</td>\n",
       "      <td>0</td>\n",
       "      <td>6</td>\n",
       "      <td>0</td>\n",
       "      <td>1</td>\n",
       "      <td>0.22</td>\n",
       "      <td>0.2727</td>\n",
       "      <td>0.80</td>\n",
       "      <td>0.0</td>\n",
       "    </tr>\n",
       "    <tr>\n",
       "      <th>2</th>\n",
       "      <td>1</td>\n",
       "      <td>0</td>\n",
       "      <td>1</td>\n",
       "      <td>2</td>\n",
       "      <td>0</td>\n",
       "      <td>6</td>\n",
       "      <td>0</td>\n",
       "      <td>1</td>\n",
       "      <td>0.22</td>\n",
       "      <td>0.2727</td>\n",
       "      <td>0.80</td>\n",
       "      <td>0.0</td>\n",
       "    </tr>\n",
       "    <tr>\n",
       "      <th>3</th>\n",
       "      <td>1</td>\n",
       "      <td>0</td>\n",
       "      <td>1</td>\n",
       "      <td>3</td>\n",
       "      <td>0</td>\n",
       "      <td>6</td>\n",
       "      <td>0</td>\n",
       "      <td>1</td>\n",
       "      <td>0.24</td>\n",
       "      <td>0.2879</td>\n",
       "      <td>0.75</td>\n",
       "      <td>0.0</td>\n",
       "    </tr>\n",
       "    <tr>\n",
       "      <th>4</th>\n",
       "      <td>1</td>\n",
       "      <td>0</td>\n",
       "      <td>1</td>\n",
       "      <td>4</td>\n",
       "      <td>0</td>\n",
       "      <td>6</td>\n",
       "      <td>0</td>\n",
       "      <td>1</td>\n",
       "      <td>0.24</td>\n",
       "      <td>0.2879</td>\n",
       "      <td>0.75</td>\n",
       "      <td>0.0</td>\n",
       "    </tr>\n",
       "  </tbody>\n",
       "</table>\n",
       "</div>"
      ],
      "text/plain": [
       "   season  yr  mnth  hr  holiday  weekday  workingday  weathersit  temp  \\\n",
       "0       1   0     1   0        0        6           0           1  0.24   \n",
       "1       1   0     1   1        0        6           0           1  0.22   \n",
       "2       1   0     1   2        0        6           0           1  0.22   \n",
       "3       1   0     1   3        0        6           0           1  0.24   \n",
       "4       1   0     1   4        0        6           0           1  0.24   \n",
       "\n",
       "    atemp   hum  windspeed  \n",
       "0  0.2879  0.81        0.0  \n",
       "1  0.2727  0.80        0.0  \n",
       "2  0.2727  0.80        0.0  \n",
       "3  0.2879  0.75        0.0  \n",
       "4  0.2879  0.75        0.0  "
      ]
     },
     "execution_count": 5,
     "metadata": {},
     "output_type": "execute_result"
    }
   ],
   "source": [
    "train.head()"
   ]
  },
  {
   "cell_type": "markdown",
   "metadata": {},
   "source": [
    "### 2) Import test dataset"
   ]
  },
  {
   "cell_type": "code",
   "execution_count": 6,
   "metadata": {
    "collapsed": true
   },
   "outputs": [],
   "source": [
    "test = pd.read_csv('test.csv')\n",
    "instantTest = test['instant']"
   ]
  },
  {
   "cell_type": "markdown",
   "metadata": {},
   "source": [
    "##### Remove data which are not usefull"
   ]
  },
  {
   "cell_type": "code",
   "execution_count": 7,
   "metadata": {
    "collapsed": true
   },
   "outputs": [],
   "source": [
    "del test['instant']\n",
    "del test['dteday']"
   ]
  },
  {
   "cell_type": "markdown",
   "metadata": {},
   "source": [
    "##### Visualize data"
   ]
  },
  {
   "cell_type": "code",
   "execution_count": 8,
   "metadata": {
    "collapsed": false
   },
   "outputs": [
    {
     "data": {
      "text/html": [
       "<div>\n",
       "<table border=\"1\" class=\"dataframe\">\n",
       "  <thead>\n",
       "    <tr style=\"text-align: right;\">\n",
       "      <th></th>\n",
       "      <th>season</th>\n",
       "      <th>yr</th>\n",
       "      <th>mnth</th>\n",
       "      <th>hr</th>\n",
       "      <th>holiday</th>\n",
       "      <th>weekday</th>\n",
       "      <th>workingday</th>\n",
       "      <th>weathersit</th>\n",
       "      <th>temp</th>\n",
       "      <th>atemp</th>\n",
       "      <th>hum</th>\n",
       "      <th>windspeed</th>\n",
       "    </tr>\n",
       "  </thead>\n",
       "  <tbody>\n",
       "    <tr>\n",
       "      <th>0</th>\n",
       "      <td>1</td>\n",
       "      <td>0</td>\n",
       "      <td>1</td>\n",
       "      <td>0</td>\n",
       "      <td>0</td>\n",
       "      <td>4</td>\n",
       "      <td>1</td>\n",
       "      <td>1</td>\n",
       "      <td>0.26</td>\n",
       "      <td>0.2273</td>\n",
       "      <td>0.56</td>\n",
       "      <td>0.3881</td>\n",
       "    </tr>\n",
       "    <tr>\n",
       "      <th>1</th>\n",
       "      <td>1</td>\n",
       "      <td>0</td>\n",
       "      <td>1</td>\n",
       "      <td>1</td>\n",
       "      <td>0</td>\n",
       "      <td>4</td>\n",
       "      <td>1</td>\n",
       "      <td>1</td>\n",
       "      <td>0.26</td>\n",
       "      <td>0.2727</td>\n",
       "      <td>0.56</td>\n",
       "      <td>0.0000</td>\n",
       "    </tr>\n",
       "    <tr>\n",
       "      <th>2</th>\n",
       "      <td>1</td>\n",
       "      <td>0</td>\n",
       "      <td>1</td>\n",
       "      <td>2</td>\n",
       "      <td>0</td>\n",
       "      <td>4</td>\n",
       "      <td>1</td>\n",
       "      <td>1</td>\n",
       "      <td>0.26</td>\n",
       "      <td>0.2727</td>\n",
       "      <td>0.56</td>\n",
       "      <td>0.0000</td>\n",
       "    </tr>\n",
       "    <tr>\n",
       "      <th>3</th>\n",
       "      <td>1</td>\n",
       "      <td>0</td>\n",
       "      <td>1</td>\n",
       "      <td>3</td>\n",
       "      <td>0</td>\n",
       "      <td>4</td>\n",
       "      <td>1</td>\n",
       "      <td>1</td>\n",
       "      <td>0.26</td>\n",
       "      <td>0.2576</td>\n",
       "      <td>0.56</td>\n",
       "      <td>0.1642</td>\n",
       "    </tr>\n",
       "    <tr>\n",
       "      <th>4</th>\n",
       "      <td>1</td>\n",
       "      <td>0</td>\n",
       "      <td>1</td>\n",
       "      <td>4</td>\n",
       "      <td>0</td>\n",
       "      <td>4</td>\n",
       "      <td>1</td>\n",
       "      <td>1</td>\n",
       "      <td>0.26</td>\n",
       "      <td>0.2576</td>\n",
       "      <td>0.56</td>\n",
       "      <td>0.1642</td>\n",
       "    </tr>\n",
       "  </tbody>\n",
       "</table>\n",
       "</div>"
      ],
      "text/plain": [
       "   season  yr  mnth  hr  holiday  weekday  workingday  weathersit  temp  \\\n",
       "0       1   0     1   0        0        4           1           1  0.26   \n",
       "1       1   0     1   1        0        4           1           1  0.26   \n",
       "2       1   0     1   2        0        4           1           1  0.26   \n",
       "3       1   0     1   3        0        4           1           1  0.26   \n",
       "4       1   0     1   4        0        4           1           1  0.26   \n",
       "\n",
       "    atemp   hum  windspeed  \n",
       "0  0.2273  0.56     0.3881  \n",
       "1  0.2727  0.56     0.0000  \n",
       "2  0.2727  0.56     0.0000  \n",
       "3  0.2576  0.56     0.1642  \n",
       "4  0.2576  0.56     0.1642  "
      ]
     },
     "execution_count": 8,
     "metadata": {},
     "output_type": "execute_result"
    }
   ],
   "source": [
    "test.head()"
   ]
  },
  {
   "cell_type": "markdown",
   "metadata": {},
   "source": [
    "### 3) Cyclic data\n",
    "##### Season, month, hour and weekday are obviously cyclic data"
   ]
  },
  {
   "cell_type": "code",
   "execution_count": 9,
   "metadata": {
    "collapsed": false
   },
   "outputs": [],
   "source": [
    "# season\n",
    "train ['cos_season'] = cos ( 2 * pi * train['season'] / 4 )\n",
    "train ['sin_season'] = sin ( 2 * pi * train['season'] / 4 )\n",
    "del train ['season']\n",
    "\n",
    "test ['cos_season'] = cos ( 2 * pi * test['season'] / 4 )\n",
    "test ['sin_season'] = sin ( 2 * pi * test['season'] / 4 )\n",
    "del test ['season']\n",
    "\n",
    "# mnth\n",
    "train ['cos_mnth'] = cos ( 2 * pi * train['mnth'] / 12 )\n",
    "train ['sin_mnth'] = sin ( 2 * pi * train['mnth'] / 12 )\n",
    "del train ['mnth']\n",
    "\n",
    "test ['cos_mnth'] = cos ( 2 * pi * test['mnth'] / 12 )\n",
    "test ['sin_mnth'] = sin ( 2 * pi * test['mnth'] / 12 )\n",
    "del test ['mnth']\n",
    "\n",
    "# hr\n",
    "train ['cos_hr'] = cos ( 2 * pi * train['hr'] / 24 )\n",
    "train ['sin_hr'] = sin ( 2 * pi * train['hr'] / 24 )\n",
    "del train ['hr']\n",
    "\n",
    "test ['cos_hr'] = cos ( 2 * pi * test['hr'] / 24 )\n",
    "test ['sin_hr'] = sin ( 2 * pi * test['hr'] / 24 )\n",
    "del test ['hr']\n",
    "\n",
    "# weekday\n",
    "train ['cos_weekday'] = cos ( 2 * pi * train['weekday'] / 7 )\n",
    "train ['sin_weekday'] = sin ( 2 * pi * train['weekday'] / 7 )\n",
    "del train ['weekday']\n",
    "\n",
    "test ['cos_weekday'] = cos ( 2 * pi * test['weekday'] / 7 )\n",
    "test ['sin_weekday'] = sin ( 2 * pi * test['weekday'] / 7 )\n",
    "del test ['weekday']"
   ]
  },
  {
   "cell_type": "markdown",
   "metadata": {},
   "source": [
    "##### Visualize new dataset"
   ]
  },
  {
   "cell_type": "code",
   "execution_count": 10,
   "metadata": {
    "collapsed": false
   },
   "outputs": [
    {
     "data": {
      "text/html": [
       "<div>\n",
       "<table border=\"1\" class=\"dataframe\">\n",
       "  <thead>\n",
       "    <tr style=\"text-align: right;\">\n",
       "      <th></th>\n",
       "      <th>yr</th>\n",
       "      <th>holiday</th>\n",
       "      <th>workingday</th>\n",
       "      <th>weathersit</th>\n",
       "      <th>temp</th>\n",
       "      <th>atemp</th>\n",
       "      <th>hum</th>\n",
       "      <th>windspeed</th>\n",
       "      <th>cos_season</th>\n",
       "      <th>sin_season</th>\n",
       "      <th>cos_mnth</th>\n",
       "      <th>sin_mnth</th>\n",
       "      <th>cos_hr</th>\n",
       "      <th>sin_hr</th>\n",
       "      <th>cos_weekday</th>\n",
       "      <th>sin_weekday</th>\n",
       "    </tr>\n",
       "  </thead>\n",
       "  <tbody>\n",
       "    <tr>\n",
       "      <th>0</th>\n",
       "      <td>0</td>\n",
       "      <td>0</td>\n",
       "      <td>0</td>\n",
       "      <td>1</td>\n",
       "      <td>0.24</td>\n",
       "      <td>0.2879</td>\n",
       "      <td>0.81</td>\n",
       "      <td>0.0</td>\n",
       "      <td>6.123234e-17</td>\n",
       "      <td>1.0</td>\n",
       "      <td>0.866025</td>\n",
       "      <td>0.5</td>\n",
       "      <td>1.000000</td>\n",
       "      <td>0.000000</td>\n",
       "      <td>0.62349</td>\n",
       "      <td>-0.781831</td>\n",
       "    </tr>\n",
       "    <tr>\n",
       "      <th>1</th>\n",
       "      <td>0</td>\n",
       "      <td>0</td>\n",
       "      <td>0</td>\n",
       "      <td>1</td>\n",
       "      <td>0.22</td>\n",
       "      <td>0.2727</td>\n",
       "      <td>0.80</td>\n",
       "      <td>0.0</td>\n",
       "      <td>6.123234e-17</td>\n",
       "      <td>1.0</td>\n",
       "      <td>0.866025</td>\n",
       "      <td>0.5</td>\n",
       "      <td>0.965926</td>\n",
       "      <td>0.258819</td>\n",
       "      <td>0.62349</td>\n",
       "      <td>-0.781831</td>\n",
       "    </tr>\n",
       "    <tr>\n",
       "      <th>2</th>\n",
       "      <td>0</td>\n",
       "      <td>0</td>\n",
       "      <td>0</td>\n",
       "      <td>1</td>\n",
       "      <td>0.22</td>\n",
       "      <td>0.2727</td>\n",
       "      <td>0.80</td>\n",
       "      <td>0.0</td>\n",
       "      <td>6.123234e-17</td>\n",
       "      <td>1.0</td>\n",
       "      <td>0.866025</td>\n",
       "      <td>0.5</td>\n",
       "      <td>0.866025</td>\n",
       "      <td>0.500000</td>\n",
       "      <td>0.62349</td>\n",
       "      <td>-0.781831</td>\n",
       "    </tr>\n",
       "    <tr>\n",
       "      <th>3</th>\n",
       "      <td>0</td>\n",
       "      <td>0</td>\n",
       "      <td>0</td>\n",
       "      <td>1</td>\n",
       "      <td>0.24</td>\n",
       "      <td>0.2879</td>\n",
       "      <td>0.75</td>\n",
       "      <td>0.0</td>\n",
       "      <td>6.123234e-17</td>\n",
       "      <td>1.0</td>\n",
       "      <td>0.866025</td>\n",
       "      <td>0.5</td>\n",
       "      <td>0.707107</td>\n",
       "      <td>0.707107</td>\n",
       "      <td>0.62349</td>\n",
       "      <td>-0.781831</td>\n",
       "    </tr>\n",
       "    <tr>\n",
       "      <th>4</th>\n",
       "      <td>0</td>\n",
       "      <td>0</td>\n",
       "      <td>0</td>\n",
       "      <td>1</td>\n",
       "      <td>0.24</td>\n",
       "      <td>0.2879</td>\n",
       "      <td>0.75</td>\n",
       "      <td>0.0</td>\n",
       "      <td>6.123234e-17</td>\n",
       "      <td>1.0</td>\n",
       "      <td>0.866025</td>\n",
       "      <td>0.5</td>\n",
       "      <td>0.500000</td>\n",
       "      <td>0.866025</td>\n",
       "      <td>0.62349</td>\n",
       "      <td>-0.781831</td>\n",
       "    </tr>\n",
       "  </tbody>\n",
       "</table>\n",
       "</div>"
      ],
      "text/plain": [
       "   yr  holiday  workingday  weathersit  temp   atemp   hum  windspeed  \\\n",
       "0   0        0           0           1  0.24  0.2879  0.81        0.0   \n",
       "1   0        0           0           1  0.22  0.2727  0.80        0.0   \n",
       "2   0        0           0           1  0.22  0.2727  0.80        0.0   \n",
       "3   0        0           0           1  0.24  0.2879  0.75        0.0   \n",
       "4   0        0           0           1  0.24  0.2879  0.75        0.0   \n",
       "\n",
       "     cos_season  sin_season  cos_mnth  sin_mnth    cos_hr    sin_hr  \\\n",
       "0  6.123234e-17         1.0  0.866025       0.5  1.000000  0.000000   \n",
       "1  6.123234e-17         1.0  0.866025       0.5  0.965926  0.258819   \n",
       "2  6.123234e-17         1.0  0.866025       0.5  0.866025  0.500000   \n",
       "3  6.123234e-17         1.0  0.866025       0.5  0.707107  0.707107   \n",
       "4  6.123234e-17         1.0  0.866025       0.5  0.500000  0.866025   \n",
       "\n",
       "   cos_weekday  sin_weekday  \n",
       "0      0.62349    -0.781831  \n",
       "1      0.62349    -0.781831  \n",
       "2      0.62349    -0.781831  \n",
       "3      0.62349    -0.781831  \n",
       "4      0.62349    -0.781831  "
      ]
     },
     "execution_count": 10,
     "metadata": {},
     "output_type": "execute_result"
    }
   ],
   "source": [
    "train.head()"
   ]
  },
  {
   "cell_type": "markdown",
   "metadata": {},
   "source": [
    "______________________________________________________________________________________________________________________"
   ]
  },
  {
   "cell_type": "markdown",
   "metadata": {},
   "source": [
    "# II/ Tested Models"
   ]
  },
  {
   "cell_type": "markdown",
   "metadata": {},
   "source": [
    "______________________________________________________________________________________________________________________"
   ]
  },
  {
   "cell_type": "markdown",
   "metadata": {},
   "source": [
    "# 1) Linear models"
   ]
  },
  {
   "cell_type": "markdown",
   "metadata": {},
   "source": [
    "### Ridge"
   ]
  },
  {
   "cell_type": "code",
   "execution_count": 11,
   "metadata": {
    "collapsed": true
   },
   "outputs": [],
   "source": [
    "from sklearn.linear_model import Ridge"
   ]
  },
  {
   "cell_type": "code",
   "execution_count": 14,
   "metadata": {
    "collapsed": false
   },
   "outputs": [
    {
     "name": "stdout",
     "output_type": "stream",
     "text": [
      "ScoreMse = -0.91, Score = 0.57\n"
     ]
    },
    {
     "data": {
      "text/plain": [
       "{'alpha': 0.95}"
      ]
     },
     "execution_count": 14,
     "metadata": {},
     "output_type": "execute_result"
    }
   ],
   "source": [
    "estimator = Ridge()\n",
    "param_grid = {\"alpha\" : [0.05,0.1,0.15,0.2,0.25,0.3,0.35,0.4,0.45,0.5,0.55,0.6,0.65,0.7,0.75,0.8,0.85,0.9,0.95] }\n",
    "bestEstimator = GridSearchCV(Ridge(), param_grid, n_jobs=-1, verbose=0, cv=20, scoring='mean_squared_error')\n",
    "\n",
    "bestEstimator.fit(train,y)\n",
    "scoreMse = cross_val_score(estimator, train, y, scoring='mean_squared_error').mean()\n",
    "score = cross_val_score(estimator, train, y).mean()\n",
    "print(\"ScoreMse = %.2f, Score = %.2f\" % (scoreMse , score))\n",
    "\n",
    "bestEstimator.best_params_"
   ]
  },
  {
   "cell_type": "code",
   "execution_count": null,
   "metadata": {
    "collapsed": true
   },
   "outputs": [],
   "source": [
    "logPredict = bestEstimator.predict(test)\n",
    "predict = np.zeros(len(test))\n",
    "for i in range (len(test)) :\n",
    "    predict[i] = np.exp(logPredict[i])\n",
    "predict = np.round(predict)\n",
    "\n",
    "final = pd.DataFrame()\n",
    "final[\"id\"] = instantTest\n",
    "final[\"Prediction\"] = predict\n",
    "final.to_csv(\"Kaggle Cycle log Ridge.csv\",index=False)"
   ]
  },
  {
   "cell_type": "markdown",
   "metadata": {},
   "source": [
    "##### Score 0.57, mse 0.91 --> no submission"
   ]
  },
  {
   "cell_type": "markdown",
   "metadata": {},
   "source": [
    "______________________________________________________________________________________________________________________"
   ]
  },
  {
   "cell_type": "markdown",
   "metadata": {},
   "source": [
    "### Lasso"
   ]
  },
  {
   "cell_type": "code",
   "execution_count": 16,
   "metadata": {
    "collapsed": true
   },
   "outputs": [],
   "source": [
    "from sklearn.linear_model import Lasso"
   ]
  },
  {
   "cell_type": "code",
   "execution_count": 17,
   "metadata": {
    "collapsed": false
   },
   "outputs": [
    {
     "name": "stdout",
     "output_type": "stream",
     "text": [
      "ScoreMse = -0.91, Score = 0.57\n"
     ]
    },
    {
     "data": {
      "text/plain": [
       "{'alpha': 0.95}"
      ]
     },
     "execution_count": 17,
     "metadata": {},
     "output_type": "execute_result"
    }
   ],
   "source": [
    "estimator = Ridge()\n",
    "param_grid = {\"alpha\" : [0.05,0.1,0.15,0.2,0.25,0.3,0.35,0.4,0.45,0.5,0.55,0.6,0.65,0.7,0.75,0.8,0.85,0.9,0.95] }\n",
    "bestEstimator = GridSearchCV(Ridge(), param_grid, n_jobs=-1, verbose=0, cv=20, scoring='mean_squared_error')\n",
    "\n",
    "bestEstimator.fit(train,y)\n",
    "scoreMse = cross_val_score(estimator, train, y, scoring='mean_squared_error').mean()\n",
    "score = cross_val_score(estimator, train, y).mean()\n",
    "print(\"ScoreMse = %.2f, Score = %.2f\" % (scoreMse , score))\n",
    "\n",
    "bestEstimator.best_params_"
   ]
  },
  {
   "cell_type": "code",
   "execution_count": null,
   "metadata": {
    "collapsed": true
   },
   "outputs": [],
   "source": [
    "logPredict = bestEstimator.predict(test)\n",
    "predict = np.zeros(len(test))\n",
    "for i in range (len(test)) :\n",
    "    predict[i] = np.exp(logPredict[i])\n",
    "predict = np.round(predict)\n",
    "\n",
    "final = pd.DataFrame()\n",
    "final[\"id\"] = instantTest\n",
    "final[\"Prediction\"] = predict\n",
    "final.to_csv(\"Kaggle Cycle log Lasso.csv\",index=False)"
   ]
  },
  {
   "cell_type": "markdown",
   "metadata": {},
   "source": [
    "##### Score 0.57, mse 0.91 --> no submission"
   ]
  },
  {
   "cell_type": "markdown",
   "metadata": {},
   "source": [
    "______________________________________________________________________________________________________________________"
   ]
  },
  {
   "cell_type": "markdown",
   "metadata": {},
   "source": [
    "### ElasticNet"
   ]
  },
  {
   "cell_type": "code",
   "execution_count": 19,
   "metadata": {
    "collapsed": true
   },
   "outputs": [],
   "source": [
    "from sklearn.linear_model import ElasticNet"
   ]
  },
  {
   "cell_type": "code",
   "execution_count": 22,
   "metadata": {
    "collapsed": false
   },
   "outputs": [
    {
     "name": "stdout",
     "output_type": "stream",
     "text": [
      "Score = -2.28\n"
     ]
    },
    {
     "data": {
      "text/plain": [
       "{'alpha': 0.05, 'l1_ratio': 0.1, 'normalize': False}"
      ]
     },
     "execution_count": 22,
     "metadata": {},
     "output_type": "execute_result"
    }
   ],
   "source": [
    "estimator = ElasticNet()\n",
    "param_grid = {\"alpha\" : [0.05,0.1,0.15,0.2,0.25,0.3,0.35,0.4,0.45,0.5,0.55,0.6,0.65,0.7,0.75,0.8,0.85,0.9,0.95] ,\n",
    "              \"l1_ratio\" : [.1, .5, .7, .9, .95, .99, 1] , \"normalize\" : [True,False] }\n",
    "bestEstimator = GridSearchCV(ElasticNet(), param_grid, n_jobs=-1, verbose=0, cv=20, scoring='mean_squared_error')\n",
    "bestEstimator.fit(train,y)\n",
    "\n",
    "score = cross_val_score(estimator, train, y, scoring='mean_squared_error').mean()\n",
    "print(\"Score = %.2f\" % score)\n",
    "\n",
    "bestEstimator.best_params_"
   ]
  },
  {
   "cell_type": "code",
   "execution_count": 16,
   "metadata": {
    "collapsed": true
   },
   "outputs": [],
   "source": [
    "logPredict = bestEstimator.predict(test)\n",
    "predict = np.zeros(len(test))\n",
    "for i in range (len(test)) :\n",
    "    predict[i] = np.exp(logPredict[i])\n",
    "predict = np.round(predict)\n",
    "\n",
    "final = pd.DataFrame()\n",
    "final[\"id\"] = instantTest\n",
    "final[\"Prediction\"] = predict\n",
    "final.to_csv(\"Kaggle Cycle log ElasticNet.csv\",index=False)"
   ]
  },
  {
   "cell_type": "markdown",
   "metadata": {},
   "source": [
    "##### Score = 0.53, mse 2.28  --> no submission"
   ]
  },
  {
   "cell_type": "markdown",
   "metadata": {},
   "source": [
    "______________________________________________________________________________________________________________________"
   ]
  },
  {
   "cell_type": "markdown",
   "metadata": {},
   "source": [
    "### BayesianRidge"
   ]
  },
  {
   "cell_type": "code",
   "execution_count": 22,
   "metadata": {
    "collapsed": true
   },
   "outputs": [],
   "source": [
    "from sklearn.linear_model import BayesianRidge"
   ]
  },
  {
   "cell_type": "code",
   "execution_count": 32,
   "metadata": {
    "collapsed": false
   },
   "outputs": [
    {
     "name": "stdout",
     "output_type": "stream",
     "text": [
      "Score = -2.28\n"
     ]
    },
    {
     "data": {
      "text/plain": [
       "{'normalize': False}"
      ]
     },
     "execution_count": 32,
     "metadata": {},
     "output_type": "execute_result"
    }
   ],
   "source": [
    "estimator = ElasticNet()\n",
    "param_grid = { \"normalize\" : [True,False] }\n",
    "bestEstimator = GridSearchCV(ElasticNet(), param_grid, n_jobs=-1, verbose=0, cv=20, scoring='mean_squared_error')\n",
    "bestEstimator.fit(train,y)\n",
    "\n",
    "score = cross_val_score(bestEstimator, train, y, scoring='mean_squared_error').mean()\n",
    "print(\"Score = %.2f\" % score)\n",
    "\n",
    "bestEstimator.best_params_"
   ]
  },
  {
   "cell_type": "code",
   "execution_count": null,
   "metadata": {
    "collapsed": true
   },
   "outputs": [],
   "source": [
    "logPredict = bestEstimator.predict(test)\n",
    "predict = np.zeros(len(test))\n",
    "for i in range (len(test)) :\n",
    "    predict[i] = np.exp(logPredict[i])\n",
    "predict = np.round(predict)\n",
    "\n",
    "final = pd.DataFrame()\n",
    "final[\"id\"] = instantTest\n",
    "final[\"Prediction\"] = predict\n",
    "final.to_csv(\"Kaggle Cycle log BayesianRidge.csv\",index=False)"
   ]
  },
  {
   "cell_type": "markdown",
   "metadata": {},
   "source": [
    "##### Score : mse 2.28 --> no submission"
   ]
  },
  {
   "cell_type": "markdown",
   "metadata": {},
   "source": [
    "______________________________________________________________________________________________________________________"
   ]
  },
  {
   "cell_type": "markdown",
   "metadata": {},
   "source": [
    "### LogisticRegression ?? classifier"
   ]
  },
  {
   "cell_type": "code",
   "execution_count": 25,
   "metadata": {
    "collapsed": true
   },
   "outputs": [],
   "source": [
    "from sklearn.linear_model import LogisticRegression"
   ]
  },
  {
   "cell_type": "markdown",
   "metadata": {},
   "source": [
    "______________________________________________________________________________________________________________________"
   ]
  },
  {
   "cell_type": "markdown",
   "metadata": {},
   "source": [
    "### StochasticGradientDescent"
   ]
  },
  {
   "cell_type": "code",
   "execution_count": 23,
   "metadata": {
    "collapsed": true
   },
   "outputs": [],
   "source": [
    "from sklearn.linear_model import SGDRegressor"
   ]
  },
  {
   "cell_type": "code",
   "execution_count": 24,
   "metadata": {
    "collapsed": false
   },
   "outputs": [
    {
     "name": "stdout",
     "output_type": "stream",
     "text": [
      "Score = -0.92\n"
     ]
    },
    {
     "data": {
      "text/plain": [
       "{'l1_ratio': 0.15,\n",
       " 'loss': 'squared_epsilon_insensitive',\n",
       " 'penalty': 'elasticnet'}"
      ]
     },
     "execution_count": 24,
     "metadata": {},
     "output_type": "execute_result"
    }
   ],
   "source": [
    "estimator = SGDRegressor()\n",
    "param_grid = {\"loss\" : [\"squared_loss\", \"huber\", \"epsilon_insensitive\", \"squared_epsilon_insensitive\"] , \n",
    "              \"penalty\" : [\"none\", \"l2\", \"l1\", \"elasticnet\"] ,\n",
    "              \"l1_ratio\" : [.1, .15, .2, .3, .4, .5, .7, .9, .95, .99, 1] }\n",
    "bestEstimator = GridSearchCV(SGDRegressor(), param_grid, n_jobs=-1, verbose=0, scoring='mean_squared_error')\n",
    "\n",
    "bestEstimator.fit(train,y)\n",
    "score = cross_val_score(estimator, train, y, cv=20, scoring='mean_squared_error').mean()\n",
    "print(\"Score = %.2f\" % score)\n",
    "\n",
    "bestEstimator.best_params_"
   ]
  },
  {
   "cell_type": "code",
   "execution_count": null,
   "metadata": {
    "collapsed": true
   },
   "outputs": [],
   "source": [
    "logPredict = bestEstimator.predict(test)\n",
    "predict = np.zeros(len(test))\n",
    "for i in range (len(test)) :\n",
    "    predict[i] = np.exp(logPredict[i])\n",
    "predict = np.round(predict)\n",
    "\n",
    "final = pd.DataFrame()\n",
    "final[\"id\"] = instantTest\n",
    "final[\"Prediction\"] = predict\n",
    "final.to_csv(\"Kaggle Cyclic log SGDRegressor.csv\",index=False)"
   ]
  },
  {
   "cell_type": "markdown",
   "metadata": {},
   "source": [
    "##### Score 0.54, mse 0.92 -> no submission"
   ]
  },
  {
   "cell_type": "markdown",
   "metadata": {},
   "source": [
    "______________________________________________________________________________________________________________________"
   ]
  },
  {
   "cell_type": "markdown",
   "metadata": {},
   "source": [
    "# 2) Kernel Ridge Regression\n",
    "### KernelRidge"
   ]
  },
  {
   "cell_type": "code",
   "execution_count": null,
   "metadata": {
    "collapsed": true
   },
   "outputs": [],
   "source": [
    "from sklearn.kernel import KernelRidge"
   ]
  },
  {
   "cell_type": "code",
   "execution_count": null,
   "metadata": {
    "collapsed": true
   },
   "outputs": [],
   "source": [
    "estimator = KernelRidge().fit(train,y)\n",
    "score = cross_val_score(estimator, train, y, cv=20, scoring='mean_squared_error', verbose=0, n_jobs=-1).mean()\n",
    "print(\"Score = %.2f\" % score)"
   ]
  },
  {
   "cell_type": "code",
   "execution_count": null,
   "metadata": {
    "collapsed": true
   },
   "outputs": [],
   "source": [
    "logPredict = estimator.predict(test)\n",
    "predict = np.zeros(len(test))\n",
    "for i in range (len(test)) :\n",
    "    predict[i] = np.exp(logPredict[i])\n",
    "predict = np.round(predict)\n",
    "\n",
    "final = pd.DataFrame()\n",
    "final[\"id\"] = instantTest\n",
    "final[\"Prediction\"] = predict\n",
    "final.to_csv(\"Kaggle Cyclic log SGDRegressor.csv\",index=False)"
   ]
  },
  {
   "cell_type": "markdown",
   "metadata": {},
   "source": [
    "##### score "
   ]
  },
  {
   "cell_type": "markdown",
   "metadata": {},
   "source": [
    "______________________________________________________________________________________________________________________"
   ]
  },
  {
   "cell_type": "markdown",
   "metadata": {},
   "source": [
    "# 3) K Nearest Neighbors\n",
    "### KNeighborsRegressor"
   ]
  },
  {
   "cell_type": "code",
   "execution_count": 25,
   "metadata": {
    "collapsed": true
   },
   "outputs": [],
   "source": [
    "from sklearn.neighbors import KNeighborsRegressor"
   ]
  },
  {
   "cell_type": "code",
   "execution_count": null,
   "metadata": {
    "collapsed": true
   },
   "outputs": [],
   "source": [
    "estimator = KNeighborsRegressor()\n",
    "param_grid = {\"n_neighbors\" : range(3,1000,+2) , \"algorithm\" : [\"auto\", \"ball_tree\", \"kd_tree\"] }\n",
    "bestEstimator = GridSearchCV(KNeighborsRegressor(), param_grid, scoring='mean_squared_error')\n",
    "\n",
    "bestEstimator.fit(train,y)\n",
    "score = cross_val_score(estimator, train, y, cv=100, scoring='mean_squared_error').mean()\n",
    "print(\"Score = %.2f\" % score)\n",
    "\n",
    "bestEstimator.best_params_"
   ]
  },
  {
   "cell_type": "code",
   "execution_count": null,
   "metadata": {
    "collapsed": true
   },
   "outputs": [],
   "source": [
    "logPredict = bestEstimator.predict(test)\n",
    "predict = np.zeros(len(test))\n",
    "for i in range (len(test)) :\n",
    "    predict[i] = np.exp(logPredict[i])\n",
    "predict = np.round(predict)\n",
    "\n",
    "final = pd.DataFrame()\n",
    "final[\"id\"] = instantTest\n",
    "final[\"Prediction\"] = predict\n",
    "final.to_csv(\"Kaggle Cyclic log KNN 1000.csv\",index=False)"
   ]
  },
  {
   "cell_type": "markdown",
   "metadata": {},
   "source": [
    "##### Score "
   ]
  },
  {
   "cell_type": "markdown",
   "metadata": {},
   "source": [
    "______________________________________________________________________________________________________________________"
   ]
  },
  {
   "cell_type": "markdown",
   "metadata": {},
   "source": [
    "# 4) Support Vector Machine\n",
    "### SVR"
   ]
  },
  {
   "cell_type": "code",
   "execution_count": 12,
   "metadata": {
    "collapsed": true
   },
   "outputs": [],
   "source": [
    "from sklearn.svm import SVR"
   ]
  },
  {
   "cell_type": "code",
   "execution_count": 22,
   "metadata": {
    "collapsed": false
   },
   "outputs": [
    {
     "name": "stdout",
     "output_type": "stream",
     "text": [
      "Score = -0.35\n"
     ]
    }
   ],
   "source": [
    "estimator = SVR(verbose=0).fit(train,y)\n",
    "score = cross_val_score(estimator, train, y, cv=20, scoring='mean_squared_error').mean()\n",
    "print(\"Score = %.2f\" % score)"
   ]
  },
  {
   "cell_type": "code",
   "execution_count": 23,
   "metadata": {
    "collapsed": true
   },
   "outputs": [],
   "source": [
    "logPredict = estimator.predict(test)\n",
    "predict = np.zeros(len(test))\n",
    "for i in range (len(test)) :\n",
    "    predict[i] = np.exp(logPredict[i])\n",
    "predict = np.round(predict)\n",
    "\n",
    "final = pd.DataFrame()\n",
    "final[\"id\"] = instantTest\n",
    "final[\"Prediction\"] = predict\n",
    "final.to_csv(\"Kaggle Cyclic log scoring=mse SVR.csv\",index=False)"
   ]
  },
  {
   "cell_type": "markdown",
   "metadata": {},
   "source": [
    "##### Score = 0.83, mse 0.35 --> Leaderboard = 0.57055"
   ]
  },
  {
   "cell_type": "markdown",
   "metadata": {},
   "source": [
    "______________________________________________________________________________________________________________________"
   ]
  },
  {
   "cell_type": "markdown",
   "metadata": {},
   "source": [
    "### NuSVR"
   ]
  },
  {
   "cell_type": "code",
   "execution_count": null,
   "metadata": {
    "collapsed": true
   },
   "outputs": [],
   "source": [
    "from sklearn.svm import NuSVR"
   ]
  },
  {
   "cell_type": "code",
   "execution_count": 18,
   "metadata": {
    "collapsed": false
   },
   "outputs": [
    {
     "name": "stdout",
     "output_type": "stream",
     "text": [
      "Score = 0.83\n"
     ]
    },
    {
     "name": "stderr",
     "output_type": "stream",
     "text": [
      "[Parallel(n_jobs=1)]: Done  20 out of  20 | elapsed:  3.0min finished\n"
     ]
    }
   ],
   "source": [
    "estimator = NuSVR().fit(train,y)\n",
    "score = cross_val_score(estimator, train, y, cv=20, verbose=0, n_jobs=-1, scoring='mean_squared_error').mean()\n",
    "print(\"Score = %.2f\" % score)"
   ]
  },
  {
   "cell_type": "code",
   "execution_count": 19,
   "metadata": {
    "collapsed": true
   },
   "outputs": [],
   "source": [
    "logPredict = estimator.predict(test)\n",
    "predict = np.zeros(len(test))\n",
    "for i in range (len(test)) :\n",
    "    predict[i] = np.exp(logPredict[i])\n",
    "predict = np.round(predict)\n",
    "\n",
    "final = pd.DataFrame()\n",
    "final[\"id\"] = instantTest\n",
    "final[\"Prediction\"] = predict\n",
    "final.to_csv(\"Kaggle Cyclic log NuSVR.csv\",index=False)"
   ]
  },
  {
   "cell_type": "markdown",
   "metadata": {},
   "source": [
    "##### Score = 0.83 --> Leaderboard  0.57331"
   ]
  },
  {
   "cell_type": "markdown",
   "metadata": {},
   "source": [
    "______________________________________________________________________________________________________________________"
   ]
  },
  {
   "cell_type": "markdown",
   "metadata": {},
   "source": [
    "# 5) Tree based methods"
   ]
  },
  {
   "cell_type": "markdown",
   "metadata": {},
   "source": [
    "### DecisionTreeRegressor"
   ]
  },
  {
   "cell_type": "code",
   "execution_count": null,
   "metadata": {
    "collapsed": true
   },
   "outputs": [],
   "source": [
    "from sklearn.tree import DecisionTreeRegressor"
   ]
  },
  {
   "cell_type": "code",
   "execution_count": null,
   "metadata": {
    "collapsed": true
   },
   "outputs": [],
   "source": [
    "estimator = DecisionTreeRegressor().fit(train,y)\n",
    "score = cross_val_score(estimator, train, y, cv=20, verbose=0, scoring='mean_squared_error').mean()\n",
    "print(\"Score = %.2f\" % score)"
   ]
  },
  {
   "cell_type": "code",
   "execution_count": null,
   "metadata": {
    "collapsed": true
   },
   "outputs": [],
   "source": [
    "logPredict = estimator.predict(test)\n",
    "predict = np.zeros(len(test))\n",
    "for i in range (len(test)) :\n",
    "    predict[i] = np.exp(logPredict[i])\n",
    "predict = np.round(predict)\n",
    "\n",
    "final = pd.DataFrame()\n",
    "final[\"id\"] = instantTest\n",
    "final[\"Prediction\"] = predict\n",
    "final.to_csv(\"Kaggle Cyclic log DecisionTreeRegressor.csv\",index=False)"
   ]
  },
  {
   "cell_type": "markdown",
   "metadata": {},
   "source": [
    "##### score "
   ]
  },
  {
   "cell_type": "markdown",
   "metadata": {},
   "source": [
    "______________________________________________________________________________________________________________________"
   ]
  },
  {
   "cell_type": "markdown",
   "metadata": {},
   "source": [
    "### BaggingTreeRegressor"
   ]
  },
  {
   "cell_type": "code",
   "execution_count": null,
   "metadata": {
    "collapsed": true
   },
   "outputs": [],
   "source": [
    "from sklearn.ensemble import BaggingRegressor"
   ]
  },
  {
   "cell_type": "code",
   "execution_count": null,
   "metadata": {
    "collapsed": true
   },
   "outputs": [],
   "source": [
    "estimator = BaggingRegressor(n_estimators=1000, n_jobs=-1, verbose=0).fit(train,y)\n",
    "score = cross_val_score(estimator, train, y, scoring='mean_squared_error').mean()\n",
    "print(\"Score = %.2f\" % score)"
   ]
  },
  {
   "cell_type": "code",
   "execution_count": null,
   "metadata": {
    "collapsed": true
   },
   "outputs": [],
   "source": [
    "logPredict = estimator.predict(test)\n",
    "predict = np.zeros(len(test))\n",
    "for i in range (len(test)) :\n",
    "    predict[i] = np.exp(logPredict[i])\n",
    "predict = np.round(predict)\n",
    "\n",
    "final = pd.DataFrame()\n",
    "final[\"id\"] = instantTest\n",
    "final[\"Prediction\"] = predict\n",
    "final.to_csv(\"Kaggle Cyclic log BaggingRegressor.csv\",index=False)"
   ]
  },
  {
   "cell_type": "markdown",
   "metadata": {},
   "source": [
    "##### score"
   ]
  },
  {
   "cell_type": "markdown",
   "metadata": {},
   "source": [
    "______________________________________________________________________________________________________________________"
   ]
  },
  {
   "cell_type": "markdown",
   "metadata": {},
   "source": [
    "### Random Forest"
   ]
  },
  {
   "cell_type": "code",
   "execution_count": null,
   "metadata": {
    "collapsed": true
   },
   "outputs": [],
   "source": [
    "from sklearn.ensemble import RandomForestRegressor"
   ]
  },
  {
   "cell_type": "code",
   "execution_count": null,
   "metadata": {
    "collapsed": true
   },
   "outputs": [],
   "source": [
    "estimator = RandomForestRegressor(n_estimators=1000, n_jobs=-1, verbose=0).fit(train,y)\n",
    "score = cross_val_score(estimator, train, y, scoring='mean_squared_error').mean()\n",
    "print(\"Score = %.2f\" % score)"
   ]
  },
  {
   "cell_type": "code",
   "execution_count": null,
   "metadata": {
    "collapsed": true
   },
   "outputs": [],
   "source": [
    "logPredict = estimator.predict(test)\n",
    "predict = np.zeros(len(test))\n",
    "for i in range (len(test)) :\n",
    "    predict[i] = np.exp(logPredict[i])\n",
    "predict = np.round(predict)\n",
    "\n",
    "final = pd.DataFrame()\n",
    "final[\"id\"] = instantTest\n",
    "final[\"Prediction\"] = predict\n",
    "final.to_csv(\"Kaggle Cyclic log scoring=MSE RandomForestRegressor 1000.csv\",index=False)"
   ]
  },
  {
   "cell_type": "markdown",
   "metadata": {},
   "source": [
    "##### Score mse 0.06 --> leaderboard 0.40608 (BEST ONE)"
   ]
  },
  {
   "cell_type": "markdown",
   "metadata": {},
   "source": [
    "______________________________________________________________________________________________________________________"
   ]
  },
  {
   "cell_type": "markdown",
   "metadata": {},
   "source": [
    "### ExtraTreesRegressor"
   ]
  },
  {
   "cell_type": "code",
   "execution_count": null,
   "metadata": {
    "collapsed": true
   },
   "outputs": [],
   "source": [
    "from sklearn.ensemble import ExtraTreesRegressor"
   ]
  },
  {
   "cell_type": "code",
   "execution_count": null,
   "metadata": {
    "collapsed": true
   },
   "outputs": [],
   "source": [
    "estimator = ExtraTreesRegressor(n_estimators=1000, n_jobs=-1, verbose=0).fit(train,y)\n",
    "score = cross_val_score(estimator, train, y, cv=10, scoring='mean_squared_error').mean()\n",
    "print(\"Score = %.2f\" % score)"
   ]
  },
  {
   "cell_type": "code",
   "execution_count": null,
   "metadata": {
    "collapsed": true
   },
   "outputs": [],
   "source": [
    "logPredict = estimator.predict(test)\n",
    "predict = np.zeros(len(test))\n",
    "for i in range (len(test)) :\n",
    "    predict[i] = np.exp(logPredict[i])\n",
    "predict = np.round(predict)\n",
    "\n",
    "final = pd.DataFrame()\n",
    "final[\"id\"] = instantTest\n",
    "final[\"Prediction\"] = predict\n",
    "final.to_csv(\"Kaggle Cyclic log(cnt) cv=10 scoring=mse ExtraTreesRegressor.csv\",index=False)"
   ]
  },
  {
   "cell_type": "markdown",
   "metadata": {},
   "source": [
    "##### Score mse 0.03 --> Leaderboard 0.40897"
   ]
  },
  {
   "cell_type": "markdown",
   "metadata": {},
   "source": [
    "______________________________________________________________________________________________________________________"
   ]
  },
  {
   "cell_type": "markdown",
   "metadata": {},
   "source": [
    "### AdaBoostRegressor"
   ]
  },
  {
   "cell_type": "code",
   "execution_count": null,
   "metadata": {
    "collapsed": true
   },
   "outputs": [],
   "source": [
    "from sklearn.ensemble import AdaBoostRegressor"
   ]
  },
  {
   "cell_type": "code",
   "execution_count": null,
   "metadata": {
    "collapsed": true
   },
   "outputs": [],
   "source": [
    "estimator = AdaBoostRegressor(n_estimators=1000, loss=\"square\", n_jobs=-1, verbose=0).fit(train,y)\n",
    "score = cross_val_score(estimator, train, y, cv=10, scoring='mean_squared_error').mean()\n",
    "print(\"Score = %.2f\" % score)"
   ]
  },
  {
   "cell_type": "code",
   "execution_count": null,
   "metadata": {
    "collapsed": true
   },
   "outputs": [],
   "source": [
    "logPredict = estimator.predict(test)\n",
    "predict = np.zeros(len(test))\n",
    "for i in range (len(test)) :\n",
    "    predict[i] = np.exp(logPredict[i])\n",
    "predict = np.round(predict)\n",
    "\n",
    "final = pd.DataFrame()\n",
    "final[\"id\"] = instantTest\n",
    "final[\"Prediction\"] = predict\n",
    "final.to_csv(\"Kaggle Cyclic log(cnt) cv=10 scoring=mse AdaBoostRegressor.csv\",index=False)"
   ]
  },
  {
   "cell_type": "markdown",
   "metadata": {},
   "source": [
    "##### score"
   ]
  },
  {
   "cell_type": "markdown",
   "metadata": {},
   "source": [
    "______________________________________________________________________________________________________________________"
   ]
  },
  {
   "cell_type": "markdown",
   "metadata": {},
   "source": [
    "### GradientBoostingRegressor"
   ]
  },
  {
   "cell_type": "code",
   "execution_count": null,
   "metadata": {
    "collapsed": true
   },
   "outputs": [],
   "source": [
    "from sklearn.ensemble import GradientBoostingRegressor"
   ]
  },
  {
   "cell_type": "code",
   "execution_count": null,
   "metadata": {
    "collapsed": true
   },
   "outputs": [],
   "source": [
    "estimator = GradientBoostingRegressor(n_estimators=1000).fit(train, y)\n",
    "score = cross_val_score(estimator, train, y, scoring='mean_squared_error').mean()\n",
    "print(\"Score = %.2f\" % score)"
   ]
  },
  {
   "cell_type": "code",
   "execution_count": null,
   "metadata": {
    "collapsed": true
   },
   "outputs": [],
   "source": [
    "logPredict = estimator.predict(test)\n",
    "predict = np.zeros(len(test))\n",
    "for i in range (len(test)) :\n",
    "    predict[i] = np.exp(logPredict[i])\n",
    "predict = np.round(predict)  # !! some values are negatives\n",
    "for i in range (len (instantTest)) :\n",
    "    if ( predict[i] < 0 ) :\n",
    "        predict[i] = 0\n",
    "\n",
    "final = pd.DataFrame()\n",
    "final[\"id\"] = instantTest\n",
    "final[\"Prediction\"] = predict\n",
    "final.to_csv(\"Kaggle Cycle GradientBoostingRegressor.csv\",index=False)"
   ]
  },
  {
   "cell_type": "markdown",
   "metadata": {},
   "source": [
    "##### score mse  (Score : 0.81 / Kaggle leaderboard : 0.84395 ---- OVERFITTING)"
   ]
  },
  {
   "cell_type": "markdown",
   "metadata": {},
   "source": [
    "______________________________________________________________________________________________________________________"
   ]
  },
  {
   "cell_type": "markdown",
   "metadata": {},
   "source": [
    "# 6) MLP Regressor"
   ]
  },
  {
   "cell_type": "code",
   "execution_count": null,
   "metadata": {
    "collapsed": true
   },
   "outputs": [],
   "source": []
  }
 ],
 "metadata": {
  "anaconda-cloud": {},
  "kernelspec": {
   "display_name": "Python [default]",
   "language": "python",
   "name": "python2"
  },
  "language_info": {
   "codemirror_mode": {
    "name": "ipython",
    "version": 2
   },
   "file_extension": ".py",
   "mimetype": "text/x-python",
   "name": "python",
   "nbconvert_exporter": "python",
   "pygments_lexer": "ipython2",
   "version": "2.7.12"
  }
 },
 "nbformat": 4,
 "nbformat_minor": 1
}
